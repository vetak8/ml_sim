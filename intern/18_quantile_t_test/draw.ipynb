{
 "cells": [
  {
   "cell_type": "code",
   "execution_count": 149,
   "id": "1f266398-0ab7-485c-9208-4469e69ce6d7",
   "metadata": {},
   "outputs": [],
   "source": [
    "from typing import List, Tuple\n",
    "from scipy import stats\n",
    "\n",
    "def ttest(\n",
    "    control: List[float],\n",
    "    experiment: List[float],\n",
    "    alpha: float = 0.05,\n",
    ") -> Tuple[float, bool]:\n",
    "    \"\"\"Two-sample t-test for the means of two independent samples\"\"\"\n",
    "    _, p_value = stats.ttest_ind(control, experiment)\n",
    "    result = bool(p_value < alpha)\n",
    "    return p_value, result\n"
   ]
  },
  {
   "cell_type": "code",
   "execution_count": 150,
   "id": "f35fddc2-1ba6-44cb-8102-c5db53399a0f",
   "metadata": {},
   "outputs": [
    {
     "data": {
      "text/plain": [
       "(0.5082704230149904, False)"
      ]
     },
     "execution_count": 150,
     "metadata": {},
     "output_type": "execute_result"
    }
   ],
   "source": [
    "ttest([6, 6, 6,6, 9,9,9,9,9,9,9,1,1,1,1,6],[6, 6, 6,6, 9,10, 11, 12, 9,9,9,9,9,9,1,1,1,1,6])"
   ]
  },
  {
   "cell_type": "code",
   "execution_count": 148,
   "id": "f708fb5b-86fb-44bc-bb25-e5bf7001683e",
   "metadata": {},
   "outputs": [
    {
     "data": {
      "text/plain": [
       "(0.06869733268249564, False)"
      ]
     },
     "execution_count": 148,
     "metadata": {},
     "output_type": "execute_result"
    }
   ],
   "source": [
    "ttest([1, 2, 3, 6], [1,9,9,9,9])"
   ]
  },
  {
   "cell_type": "code",
   "execution_count": 44,
   "id": "62fda62f-add7-4ae8-8126-9112a3406b54",
   "metadata": {},
   "outputs": [],
   "source": [
    "from typing import List, Tuple\n",
    "from scipy import stats\n",
    "\n",
    "def ttest(\n",
    "    control: List[float],\n",
    "    experiment: List[float],\n",
    "    alpha: float = 0.05,\n",
    ") -> Tuple[float, bool]:\n",
    "    \"\"\"\n",
    "    Two-sample Mann-Whitney U test for the means of two independent samples.\n",
    "    \n",
    "    Parameters:\n",
    "        control: List[float]: The error predictions for the control group.\n",
    "        experiment: List[float]: The error predictions for the experimental group.\n",
    "        alpha: float: The significance level for the test.\n",
    "    \n",
    "    Returns:\n",
    "        Tuple[float, bool]: The p-value of the test and a boolean indicating whether the difference is significant.\n",
    "    \"\"\"\n",
    "    _, p_value = stats.mannwhitneyu(control, experiment, alternative='two-sided')\n",
    "    result = p_value > alpha\n",
    "    return p_value, result\n"
   ]
  },
  {
   "cell_type": "code",
   "execution_count": 39,
   "id": "b800945f-749b-4d25-b854-ebe343171d21",
   "metadata": {},
   "outputs": [
    {
     "data": {
      "text/plain": [
       "(1.0, False)"
      ]
     },
     "execution_count": 39,
     "metadata": {},
     "output_type": "execute_result"
    }
   ],
   "source": [
    "ttest([1, 2, 3, 6], [1, 2, 3, 6])"
   ]
  },
  {
   "cell_type": "code",
   "execution_count": 119,
   "id": "4fc5337c-5eca-4e1b-94bc-2975279fa1d1",
   "metadata": {},
   "outputs": [
    {
     "data": {
      "text/plain": [
       "3.75"
      ]
     },
     "execution_count": 119,
     "metadata": {},
     "output_type": "execute_result"
    }
   ],
   "source": [
    "np.quantile([1,2,3,6], 0.75)"
   ]
  },
  {
   "cell_type": "code",
   "execution_count": null,
   "id": "a855891d-5110-4ceb-af13-285bebe3f94a",
   "metadata": {},
   "outputs": [],
   "source": [
    "from typing import List\n",
    "from typing import Tuple\n",
    "\n",
    "import numpy as np\n",
    "from scipy.stats import ttest_ind\n",
    "\n",
    "\n",
    "def quantile_ttest(\n",
    "    control: List[float],\n",
    "    experiment: List[float],\n",
    "    alpha: float = 0.05,\n",
    "    quantile: float = 0.95,\n",
    "    n_bootstraps: int = 1000,\n",
    ") -> Tuple[float, bool]:\n",
    "    \"\"\"\n",
    "    Bootstrapped t-test for quantiles of two samples.\n",
    "    \"\"\"\n",
    "    control_bootstraped_quantiles = []\n",
    "    experiment_bootstraped_quantiles = []\n",
    "\n",
    "    for _ in range(n_bootstraps):\n",
    "        control_sample = np.random.choice(control, len(control), replace=True)\n",
    "        experiment_sample = np.random.choice(experiment, len(experiment), replace = True)\n",
    "\n",
    "        control_bootstraped_quantiles.append(np.quantile(control_sample, quantile))\n",
    "        experiment_bootstraped_quantiles.append(np.quantile(control_sample, quantile))\n",
    "\n",
    "    _, p_value = ttest_ind(control_bootstraped_quantiles, experiment_bootstraped_quantiles)\n",
    "    result = bool(p_value < alpha)\n",
    "    \n",
    "    return p_value, result\n"
   ]
  }
 ],
 "metadata": {
  "kernelspec": {
   "display_name": "Python 3 (ipykernel)",
   "language": "python",
   "name": "python3"
  },
  "language_info": {
   "codemirror_mode": {
    "name": "ipython",
    "version": 3
   },
   "file_extension": ".py",
   "mimetype": "text/x-python",
   "name": "python",
   "nbconvert_exporter": "python",
   "pygments_lexer": "ipython3",
   "version": "3.11.0"
  }
 },
 "nbformat": 4,
 "nbformat_minor": 5
}
