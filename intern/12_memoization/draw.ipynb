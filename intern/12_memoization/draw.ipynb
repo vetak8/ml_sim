{
 "cells": [
  {
   "cell_type": "code",
   "execution_count": 7,
   "id": "5364ca9c-308c-4517-a09e-465a6464566f",
   "metadata": {},
   "outputs": [],
   "source": [
    "from typing import Callable\n",
    "import time\n",
    "import json\n",
    "\n",
    "def timer(func: Callable):\n",
    "    def wrapped(x: int, y:int) -> float:\n",
    "        start = time.time()\n",
    "        result = func(x, y)\n",
    "        end = time.time()\n",
    "        duration = round(1000 * (end - start), 1)\n",
    "        print(f'{func.__name__} was run in {duration} ms')\n",
    "        return result\n",
    "    return wrapped"
   ]
  },
  {
   "cell_type": "code",
   "execution_count": 8,
   "id": "4c0e5794-bae0-47d1-936b-df442b8d0441",
   "metadata": {},
   "outputs": [],
   "source": [
    "@timer\n",
    "def slow_conversion_rate(conversions: int, clicks: int) -> float:\n",
    "    time.sleep(0.8)\n",
    "    return conversions / clicks"
   ]
  },
  {
   "cell_type": "code",
   "execution_count": 9,
   "id": "b2611332-911b-4d3c-bc6b-ff58b3005e97",
   "metadata": {},
   "outputs": [
    {
     "name": "stdout",
     "output_type": "stream",
     "text": [
      "slow_conversion_rate was run in 801.3 ms\n"
     ]
    },
    {
     "data": {
      "text/plain": [
       "0.012012012012012012"
      ]
     },
     "execution_count": 9,
     "metadata": {},
     "output_type": "execute_result"
    }
   ],
   "source": [
    "slow_conversion_rate(4, 333)"
   ]
  },
  {
   "cell_type": "code",
   "execution_count": 10,
   "id": "47b2041b-eb1b-4b5a-9cea-a969d9acc8c6",
   "metadata": {},
   "outputs": [],
   "source": [
    "def memoize(func: Callable):\n",
    "    '''\n",
    "    Memoize function\n",
    "    Ввод:\n",
    "    \n",
    "    func: функция которую кэшируют\n",
    "    args, kwargs: входные данные\n",
    "\n",
    "    Выход:\n",
    "    Если функция выполнялась с такими переменными, выводится кэшировавнный результат,\n",
    "    иначе функция выполняется, кэшируется и выводится результат\n",
    "    '''\n",
    "    cache = {}\n",
    "    def wrapped(*args, **kwargs):\n",
    "        key = (json.dumps(args), json.dumps(kwargs, sort_keys=True))\n",
    "        if key not in cache:\n",
    "            result = func(*args, **kwargs)\n",
    "            cache[key] = result       \n",
    "        return cache[key]\n",
    "        \n",
    "    return wrapped\n",
    "    "
   ]
  },
  {
   "cell_type": "code",
   "execution_count": 11,
   "id": "0b093d98-57f9-4e40-becd-aea60c4fed04",
   "metadata": {},
   "outputs": [],
   "source": [
    "@timer\n",
    "@memoize\n",
    "def slow_conversion_rate(conversions: int, clicks: int) -> float:\n",
    "    time.sleep(0.8)\n",
    "    return conversions / clicks"
   ]
  },
  {
   "cell_type": "code",
   "execution_count": 12,
   "id": "0ba684fc-7e93-4446-bbb4-1672e51839f2",
   "metadata": {},
   "outputs": [
    {
     "name": "stdout",
     "output_type": "stream",
     "text": [
      "wrapped was run in 801.0 ms\n"
     ]
    },
    {
     "data": {
      "text/plain": [
       "0.0012004801920768306"
      ]
     },
     "execution_count": 12,
     "metadata": {},
     "output_type": "execute_result"
    }
   ],
   "source": [
    "slow_conversion_rate(4, 3332)"
   ]
  },
  {
   "cell_type": "code",
   "execution_count": 13,
   "id": "0567cbdb-6211-4f4d-a5d0-7dd95baf543b",
   "metadata": {},
   "outputs": [
    {
     "name": "stdout",
     "output_type": "stream",
     "text": [
      "wrapped was run in 0.0 ms\n"
     ]
    },
    {
     "data": {
      "text/plain": [
       "0.0012004801920768306"
      ]
     },
     "execution_count": 13,
     "metadata": {},
     "output_type": "execute_result"
    }
   ],
   "source": [
    "slow_conversion_rate(4, 3332)"
   ]
  },
  {
   "cell_type": "code",
   "execution_count": null,
   "id": "0318b102-bbf9-4dc7-b4f5-203c0656ea88",
   "metadata": {},
   "outputs": [],
   "source": []
  }
 ],
 "metadata": {
  "kernelspec": {
   "display_name": "Python 3 (ipykernel)",
   "language": "python",
   "name": "python3"
  },
  "language_info": {
   "codemirror_mode": {
    "name": "ipython",
    "version": 3
   },
   "file_extension": ".py",
   "mimetype": "text/x-python",
   "name": "python",
   "nbconvert_exporter": "python",
   "pygments_lexer": "ipython3",
   "version": "3.11.0"
  }
 },
 "nbformat": 4,
 "nbformat_minor": 5
}
