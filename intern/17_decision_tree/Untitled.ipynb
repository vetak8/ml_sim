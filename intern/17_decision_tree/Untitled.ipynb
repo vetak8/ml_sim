{
 "cells": [
  {
   "cell_type": "code",
   "execution_count": 22,
   "id": "ca011001-c31a-4530-9b45-572baca41199",
   "metadata": {},
   "outputs": [],
   "source": [
    "import pandas as pd\n",
    "import numpy as np\n",
    "from mse_wmse import mse, weighted_mse"
   ]
  },
  {
   "cell_type": "code",
   "execution_count": 2,
   "id": "a56851dd-09f6-4266-8016-16c18c06f3c0",
   "metadata": {},
   "outputs": [],
   "source": [
    "df =pd.read_csv('data.csv')"
   ]
  },
  {
   "cell_type": "code",
   "execution_count": 96,
   "id": "120fa383-5848-4a94-a642-aa250de40cfd",
   "metadata": {},
   "outputs": [],
   "source": [
    "def split(X: np.ndarray, y: np.ndarray, feature: int) -> float:\n",
    "    \"\"\"Find the best split for a node (one feature)\"\"\"\n",
    "    best_threshold = None\n",
    "    best_metric = float('inf')\n",
    "    \n",
    "    for split_value in np.unique(X[:, feature]):\n",
    "        left_indices = X[:, feature] <= split_value\n",
    "        right_indices = X[:, feature] > split_value\n",
    "\n",
    "        left_y, right_y = y[left_indices], y[right_indices]\n",
    "        metric = weighted_mse(left_y, right_y)\n",
    "\n",
    "        if metric < best_metric:\n",
    "            best_metric = metric\n",
    "            best_threshold = split_value\n",
    "    return best_threshold, best_metric"
   ]
  },
  {
   "cell_type": "code",
   "execution_count": 97,
   "id": "30925e97-c350-414a-9eac-b15cbc440784",
   "metadata": {},
   "outputs": [],
   "source": [
    "X = df.iloc[:, :-1].values\n",
    "y = df['delay_days'].values"
   ]
  },
  {
   "cell_type": "code",
   "execution_count": 98,
   "id": "2b622123-bd36-45b9-a000-9c7ecf8925f8",
   "metadata": {},
   "outputs": [
    {
     "data": {
      "text/plain": [
       "(48, 406.743974171499)"
      ]
     },
     "execution_count": 98,
     "metadata": {},
     "output_type": "execute_result"
    }
   ],
   "source": [
    "split(X, y, 0)"
   ]
  },
  {
   "cell_type": "code",
   "execution_count": 99,
   "id": "340297ec-f3e9-4c98-ae1a-b953903a4da0",
   "metadata": {},
   "outputs": [],
   "source": [
    "from __future__ import annotations\n",
    "\n",
    "import numpy as np\n",
    "\n",
    "\n",
    "def best_split(X: np.ndarray, y: np.ndarray) -> tuple[int, float]:\n",
    "    \"\"\"Find the best split for a node (one feature)\"\"\"\n",
    "    best_feature = None\n",
    "    best_threshold = None\n",
    "    best_metric = float('inf')\n",
    "\n",
    "    for feature in range(X.shape[1]):\n",
    "        threshold, metric = split(X, y, feature)\n",
    "        if metric < best_metric:\n",
    "            best_metric = metric\n",
    "            best_feature = feature\n",
    "            best_threshold = threshold\n",
    "    return best_feature, best_threshold"
   ]
  },
  {
   "cell_type": "code",
   "execution_count": 100,
   "id": "991bac28-6d34-46d5-8317-21a915e4e585",
   "metadata": {},
   "outputs": [
    {
     "data": {
      "text/plain": [
       "(1, 44443)"
      ]
     },
     "execution_count": 100,
     "metadata": {},
     "output_type": "execute_result"
    }
   ],
   "source": [
    "best_split(X, y)"
   ]
  },
  {
   "cell_type": "code",
   "execution_count": 102,
   "id": "dcc34812-be59-4bbd-ba7d-6948e9f2e8e2",
   "metadata": {},
   "outputs": [],
   "source": [
    "from __future__ import annotations\n",
    "\n",
    "from dataclasses import dataclass\n",
    "\n",
    "\n",
    "@dataclass\n",
    "class Node:\n",
    "    \"\"\"Decision tree node.\"\"\"\n",
    "    feature: int\n",
    "    threshold: float\n",
    "    n_samples: int\n",
    "    left: Node = None\n",
    "    right: Node = None\n",
    "    mse: float = None\n",
    "    value: int = None"
   ]
  },
  {
   "cell_type": "code",
   "execution_count": null,
   "id": "07a0d549-a170-4247-acc7-dffae4a9dca1",
   "metadata": {},
   "outputs": [],
   "source": []
  }
 ],
 "metadata": {
  "kernelspec": {
   "display_name": "Python 3 (ipykernel)",
   "language": "python",
   "name": "python3"
  },
  "language_info": {
   "codemirror_mode": {
    "name": "ipython",
    "version": 3
   },
   "file_extension": ".py",
   "mimetype": "text/x-python",
   "name": "python",
   "nbconvert_exporter": "python",
   "pygments_lexer": "ipython3",
   "version": "3.11.0"
  }
 },
 "nbformat": 4,
 "nbformat_minor": 5
}
