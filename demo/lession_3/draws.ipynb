{
 "cells": [
  {
   "cell_type": "code",
   "execution_count": 4,
   "id": "127cbff4-786f-4dca-b6cd-5788051c849c",
   "metadata": {},
   "outputs": [],
   "source": [
    "from typing import List\n",
    "from functools import reduce\n",
    "import numpy as np\n",
    "\n",
    "\n",
    "def cumulative_gain(relevance: List[float], k: int) -> float:\n",
    "    \"\"\"Score is cumulative gain at k (CG@k)\n",
    "\n",
    "    Parameters\n",
    "    ----------\n",
    "    relevance:  `List[float]`\n",
    "        Relevance labels (Ranks)\n",
    "    k : `int`\n",
    "        Number of elements to be counted\n",
    "\n",
    "    Returns\n",
    "    -------\n",
    "    score : float\n",
    "    \"\"\"\n",
    "    score = reduce(lambda x, y: x+y, relevance[:k])\n",
    "    return score\n"
   ]
  },
  {
   "cell_type": "code",
   "execution_count": 3,
   "id": "e3114deb-6b1e-41d8-8f0b-6193e98ff303",
   "metadata": {},
   "outputs": [
    {
     "data": {
      "text/plain": [
       "[4, 3, 2]"
      ]
     },
     "execution_count": 3,
     "metadata": {},
     "output_type": "execute_result"
    }
   ],
   "source": [
    "sorted([2,3,4], reverse=True)"
   ]
  },
  {
   "cell_type": "code",
   "execution_count": 7,
   "id": "21e3dd1a-0f47-49d8-8de9-1abac82417ae",
   "metadata": {},
   "outputs": [
    {
     "data": {
      "text/plain": [
       "4.26"
      ]
     },
     "execution_count": 7,
     "metadata": {},
     "output_type": "execute_result"
    }
   ],
   "source": [
    "relevance = [0.99, 0.94, 0.88, 0.74, 0.71, 0.68]\n",
    "cumulative_gain(relevance, 5)"
   ]
  },
  {
   "cell_type": "code",
   "execution_count": 97,
   "id": "6b041af7-acd8-46a9-9ddf-3f24de869b75",
   "metadata": {},
   "outputs": [],
   "source": [
    "from typing import List\n",
    "import numpy as np\n",
    "from functools import reduce\n",
    "\n",
    "\n",
    "def discounted_cumulative_gain(relevance: List[float], k: int, method: str = \"standard\") -> float:\n",
    "    \"\"\"Discounted Cumulative Gain\n",
    "\n",
    "    Parameters\n",
    "    ----------\n",
    "    relevance : `List[float]`\n",
    "        Video relevance list\n",
    "    k : `int`\n",
    "        Count relevance to compute\n",
    "    method : `str`, optional\n",
    "        Metric implementation method, takes the values​​\n",
    "        `standard` - adds weight to the denominator\n",
    "        `industry` - adds weights to the numerator and denominator\n",
    "        `raise ValueError` - for any value\n",
    "\n",
    "    Returns\n",
    "    -------\n",
    "    score : `float`\n",
    "        Metric score\n",
    "    \"\"\"\n",
    "    relevance = relevance[:k]\n",
    "    \n",
    "    if method == 'standard':\n",
    "        dcg_standard_acc = lambda acc, idx: acc + relevance[idx] / np.log2(idx + 2)\n",
    "        score = reduce(dcg_standard_acc, range(len(relevance)), 0)\n",
    "\n",
    "    elif method == 'industry':\n",
    "        dcg_industry_acc = lambda acc, idx: acc + (2**relevance[idx] - 1) / np.log2(idx + 2)\n",
    "        score = reduce(dcg_industry_acc, range(len(relevance)), 0)\n",
    "        \n",
    "    else:\n",
    "        raise ValueError\n",
    "    \n",
    "    return score"
   ]
  },
  {
   "cell_type": "code",
   "execution_count": null,
   "id": "59a77005-cdfd-4077-91f3-0dcff6b3c469",
   "metadata": {},
   "outputs": [],
   "source": [
    "from typing import List\n",
    "import numpy as np\n",
    "from functools import reduce\n",
    "\n",
    "def discounted_cumulative_gain(relevance: List[float], k: int, method: str = \"standard\") -> float:\n",
    "    \"\"\"Discounted Cumulative Gain\n",
    "\n",
    "    Parameters\n",
    "    ----------\n",
    "    relevance : List[float]\n",
    "        Video relevance list\n",
    "    k : int\n",
    "        Count relevance to compute\n",
    "    method : str, optional\n",
    "        Metric implementation method, takes the values:\n",
    "        'standard' - adds weight to the denominator\n",
    "        'industry' - adds weights to the numerator and denominator\n",
    "        'raise ValueError' - for any value\n",
    "\n",
    "    Returns\n",
    "    -------\n",
    "    score : float\n",
    "        Metric score\n",
    "    \"\"\"\n",
    "    relevance = relevance[:k]\n",
    "\n",
    "    if method == 'standard':\n",
    "        def dcg_standard_acc(acc, idx):\n",
    "            return acc + relevance[idx] / np.log2(idx + 2)\n",
    "        score = reduce(dcg_standard_acc, range(len(relevance)), 0)\n",
    "\n",
    "    elif method == 'industry':\n",
    "        def dcg_industry_acc(acc, idx):\n",
    "            return acc + (2**relevance[idx] - 1) / np.log2(idx + 2)\n",
    "        score = reduce(dcg_industry_acc, range(len(relevance)), 0)\n",
    "\n",
    "    else:\n",
    "        raise ValueError(\"Invalid method\")\n",
    "\n",
    "    return score\n"
   ]
  },
  {
   "cell_type": "code",
   "execution_count": 98,
   "id": "8f4e61bb-706d-4619-8911-98d610c21361",
   "metadata": {},
   "outputs": [
    {
     "name": "stdout",
     "output_type": "stream",
     "text": [
      "2.6164401144680056\n"
     ]
    }
   ],
   "source": [
    "relevance = [0.99, 0.94, 0.88, 0.74, 0.71, 0.68]\n",
    "k = 5\n",
    "method = 'standard'\n",
    "print(discounted_cumulative_gain(relevance, k, method))\n",
    "\n"
   ]
  },
  {
   "cell_type": "code",
   "execution_count": 36,
   "id": "d4c09319-02b7-41da-b48d-0a93c33b1e94",
   "metadata": {},
   "outputs": [],
   "source": [
    "from typing import List\n",
    "from functools import reduce\n",
    "import numpy as np\n",
    "\n",
    "def normalized_dcg(relevance: List[float], k: int, method: str = \"standard\") -> float:\n",
    "    \"\"\"Discounted Cumulative Gain\n",
    "\n",
    "    Parameters\n",
    "    ----------\n",
    "    relevance : List[float]\n",
    "        Video relevance list\n",
    "    k : int\n",
    "        Count relevance to compute\n",
    "    method : str, optional\n",
    "        Metric implementation method, takes the values:\n",
    "        'standard' - adds weight to the denominator\n",
    "        'industry' - adds weights to the numerator and denominator\n",
    "        'raise ValueError' - for any value\n",
    "\n",
    "    Returns\n",
    "    -------\n",
    "    score : float\n",
    "        Metric score\n",
    "    \"\"\"\n",
    "    relevance_sorted = sorted(relevance, reverse=True)[:k]\n",
    "    relevance = relevance[:k]\n",
    "    \n",
    "    if method == 'standard':\n",
    "        def dcg_standard_acc(acc, idx):\n",
    "            return acc + relevance[idx] / np.log2(idx + 2)\n",
    "        dcg = reduce(dcg_standard_acc, range(len(relevance)), 0)\n",
    "        relevance = relevance_sorted\n",
    "        idcg = reduce(dcg_standard_acc, range(len(relevance)), 0)\n",
    "        score = dcg / idcg\n",
    "\n",
    "    elif method == 'industry':\n",
    "        def dcg_industry_acc(acc, idx):\n",
    "            return acc + (2**relevance[idx] - 1) / np.log2(idx + 2)\n",
    "        dcg = reduce(dcg_industry_acc, range(len(relevance)), 0)\n",
    "        relevance = relevance_sorted\n",
    "        idcg = reduce(dcg_industry_acc, range(len(relevance)), 0)\n",
    "    else:\n",
    "        raise ValueError(\"Invalid method\")\n",
    "\n",
    "    return score\n"
   ]
  },
  {
   "cell_type": "code",
   "execution_count": 37,
   "id": "3a76e2b2-f7e3-4913-96ca-6ebd72297f30",
   "metadata": {},
   "outputs": [
    {
     "name": "stdout",
     "output_type": "stream",
     "text": [
      "0.9962906539247512\n"
     ]
    }
   ],
   "source": [
    ">>> relevance = [0.99, 0.94, 0.74, 0.88, 0.71, 0.68]\n",
    ">>> k = 5\n",
    ">>> method = 'standard'\n",
    ">>> print(normalized_dcg(relevance, k, method))\n",
    "\n",
    "# 0.9962..."
   ]
  },
  {
   "cell_type": "code",
   "execution_count": 43,
   "id": "6e8e3501-40f1-4ee0-80e9-a47e4f508a1d",
   "metadata": {},
   "outputs": [],
   "source": [
    "from typing import List\n",
    "from functools import reduce\n",
    "import numpy as np\n",
    "\n",
    "def avg_ndcg(list_relevances: List[List[float]], k: int, method: str = 'standard') -> float:\n",
    "    \"\"\"Average nDCG\n",
    "\n",
    "    Parameters\n",
    "    ----------\n",
    "    list_relevances : `List[List[float]]`\n",
    "        Video relevance matrix for various queries\n",
    "    k : `int`\n",
    "        Count relevance to compute\n",
    "    method : `str`, optional\n",
    "        Metric implementation method, takes the values ​​\\\n",
    "        `standard` - adds weight to the denominator\\\n",
    "        `industry` - adds weights to the numerator and denominator\\\n",
    "        `raise ValueError` - for any value\n",
    "\n",
    "    Returns\n",
    "    -------\n",
    "    score : `float`\n",
    "        Metric score\n",
    "    \"\"\"\n",
    "    cum_score = 0\n",
    "    n = len(list_relevances)\n",
    "\n",
    "    for relevance in list_relevances:\n",
    "        \n",
    "        relevance_sorted = sorted(relevance, reverse=True)[:k]\n",
    "        relevance = relevance[:k]\n",
    "\n",
    "        if method == 'standard':\n",
    "            def dcg_standard_acc(acc, idx):\n",
    "                return acc + relevance[idx] / np.log2(idx + 2)\n",
    "                \n",
    "            dcg = reduce(dcg_standard_acc, range(len(relevance)), 0)\n",
    "            relevance = relevance_sorted\n",
    "            idcg = reduce(dcg_standard_acc, range(len(relevance)), 0)\n",
    "            \n",
    "        elif method == 'industry':\n",
    "            def dcg_industry_acc(acc, idx):\n",
    "                return acc + (2**relevance[idx] - 1) / np.log2(idx + 2)\n",
    "                \n",
    "            dcg = reduce(dcg_industry_acc, range(len(relevance)), 0)\n",
    "            relevance = relevance_sorted\n",
    "            idcg = reduce(dcg_industry_acc, range(len(relevance)), 0)\n",
    "            \n",
    "        else:\n",
    "            raise ValueError(\"Invalid method\")\n",
    "        score = dcg / idcg\n",
    "        cum_score += score\n",
    "    result = cum_score / n\n",
    "    \n",
    "    return result\n",
    "\n"
   ]
  },
  {
   "cell_type": "code",
   "execution_count": 44,
   "id": "60e3de58-3825-4856-b251-4ab9919ce828",
   "metadata": {},
   "outputs": [
    {
     "name": "stdout",
     "output_type": "stream",
     "text": [
      "0.9961322104432755\n"
     ]
    }
   ],
   "source": [
    ">>> list_relevances = [\n",
    "        [0.99, 0.94, 0.88, 0.89, 0.72, 0.65],\n",
    "        [0.99, 0.92, 0.93, 0.74, 0.61, 0.68], \n",
    "        [0.99, 0.96, 0.81, 0.73, 0.76, 0.69]\n",
    "    ]  \n",
    ">>> k = 5\n",
    ">>> method = 'standard'\n",
    ">>> print(avg_ndcg(list_relevances, k, method))\n",
    "\n",
    "# 0.99613..."
   ]
  },
  {
   "cell_type": "code",
   "execution_count": null,
   "id": "e7a7a956-fd9f-491d-9217-6b8c8229ef1e",
   "metadata": {},
   "outputs": [],
   "source": []
  }
 ],
 "metadata": {
  "kernelspec": {
   "display_name": "Python 3 (ipykernel)",
   "language": "python",
   "name": "python3"
  },
  "language_info": {
   "codemirror_mode": {
    "name": "ipython",
    "version": 3
   },
   "file_extension": ".py",
   "mimetype": "text/x-python",
   "name": "python",
   "nbconvert_exporter": "python",
   "pygments_lexer": "ipython3",
   "version": "3.11.0"
  }
 },
 "nbformat": 4,
 "nbformat_minor": 5
}
