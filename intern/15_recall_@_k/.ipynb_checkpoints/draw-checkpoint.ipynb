{
 "cells": [
  {
   "cell_type": "code",
   "execution_count": 2,
   "id": "b716b84c-ba7c-40e5-8ed4-5d6c0b81ea5f",
   "metadata": {},
   "outputs": [],
   "source": [
    "from typing import List\n",
    "import numpy as np"
   ]
  },
  {
   "cell_type": "code",
   "execution_count": 16,
   "id": "29b3ebaf-0396-4750-96a7-ca076911093c",
   "metadata": {},
   "outputs": [],
   "source": [
    "\n",
    "\n",
    "def recall_at_k(labels: List[int], scores: List[float], k=5) -> float:\n",
    "    sorted_indices = sorted(range(len(scores)), key=lambda x: scores[x], reverse=True)\n",
    "    top_k_predictions = [labels[i] for i in sorted_indices[:k]]\n",
    "    relevant_in_top_k = sum(top_k_predictions)\n",
    "    total_relevant = sum(labels)\n",
    "    recall_at_k = relevant_in_top_k / total_relevant if total_relevant > 0 else 0.0\n",
    "    \n",
    "    return recall_at_k\n"
   ]
  },
  {
   "cell_type": "code",
   "execution_count": 22,
   "id": "212a908a-008d-4def-9b8e-47ec3def04fc",
   "metadata": {},
   "outputs": [],
   "source": [
    "def precision_at_k(labels: List[int], scores: List[float], k=5) -> float:\n",
    "\n",
    "    sorted_indices = sorted(range(len(scores)), key=lambda x: scores[x], reverse=True)\n",
    "    top_k_predictions = [labels[i] for i in sorted_indices[:k]]\n",
    "    relevant_in_top_k = sum(top_k_predictions)\n",
    "    precision_k = relevant_in_top_k / k if k > 0 else 0.0\n",
    "    \n",
    "    return precision_k"
   ]
  },
  {
   "cell_type": "code",
   "execution_count": null,
   "id": "dfdd7583-38f8-4901-8712-20c2a981ca3f",
   "metadata": {},
   "outputs": [],
   "source": [
    "def specificity_at_k(labels: List[int], scores: List[float], k=5) -> float:\n",
    "\n",
    "    sorted_indices = sorted(range(len(scores)), key=lambda x: scores[x], reverse=True)\n",
    "    top_k_predictions = [labels[i] for i in sorted_indices]\n",
    "    non_relevant_in_top_k = k - sum(top_k_predictions)\n",
    "    total_non_relevant = len(labels) - sum(labels)\n",
    "    specificity_at_k = non_relevant_in_top_k / total_non_relevant if total_non_relevant > 0 else 0.0\n",
    "    return specificity_at_k"
   ]
  },
  {
   "cell_type": "code",
   "execution_count": 74,
   "id": "4979df00-0aa3-4685-902d-d45ba8321365",
   "metadata": {},
   "outputs": [],
   "source": [
    "from typing import List\n",
    "\n",
    "\n",
    "def recall_at_k(labels: List[int], scores: List[float], k=5) -> float:\n",
    "    # Сортируем по убыванию по предсказанным оценкам\n",
    "    sorted_indices = sorted(range(len(scores)), key=lambda x: scores[x], reverse=True)\n",
    "\n",
    "    # Выбираем топ-K элементов\n",
    "    top_k_predictions = [labels[i] for i in sorted_indices[:k]]\n",
    "\n",
    "    # Подсчитываем количество релевантных элементов в топ-K\n",
    "    relevant_in_top_k = sum(top_k_predictions)\n",
    "\n",
    "    # Подсчитываем общее количество релевантных элементов\n",
    "    total_relevant = sum(labels)\n",
    "\n",
    "    # Вычисляем Recall @ K\n",
    "    recall_k = relevant_in_top_k / total_relevant if total_relevant > 0 else 0.0\n",
    "\n",
    "    return recall_k\n",
    "\n",
    "\n",
    "def precision_at_k(labels: List[int], scores: List[float], k=5) -> float:\n",
    "    # Сортируем по убыванию по предсказанным оценкам\n",
    "    sorted_indices = sorted(range(len(scores)), key=lambda x: scores[x], reverse=True)\n",
    "    \n",
    "    # Выбираем топ-K элементов\n",
    "    top_k_predictions = [labels[i] for i in sorted_indices[:k]]\n",
    "    \n",
    "    # Подсчитываем количество релевантных элементов в топ-K\n",
    "    relevant_in_top_k = sum(top_k_predictions)\n",
    "    \n",
    "    # Вычисляем Precision @ K\n",
    "    precision_k = relevant_in_top_k / k if k > 0 else 0.0\n",
    "\n",
    "    return precision_k\n",
    "\n",
    "\n",
    "def specificity_at_k(labels: List[int], scores: List[float], k=5) -> float:\n",
    "    # Сортируем по убыванию по предсказанным оценкам\n",
    "    sorted_indices = sorted(range(len(scores)), key=lambda i: scores[i], reverse=True)\n",
    "    \n",
    "    # Выбираем топ-K элементов\n",
    "    top_k_predictions = [labels[i] for i in sorted_indices[:k]]\n",
    "    \n",
    "    # Подсчитываем количество нерелевантных элементов вне топ-K\n",
    "    non_relevant_outside_top_k = k - sum(top_k_predictions)\n",
    "    \n",
    "    # Подсчитываем общее количество нерелевантных элементов\n",
    "    total_non_relevant = len(labels) - sum(labels)\n",
    "    print()\n",
    "    # Вычисляем Specificity @ K\n",
    "    specificity_at_k = non_relevant_outside_top_k / total_non_relevant if total_non_relevant > 0 else 0.0\n",
    "    \n",
    "    return specificity_at_k\n",
    "\n",
    "def f1_at_k(labels: List[int], scores: List[float], k=5) -> float:\n",
    "    # Вычисляем Recall и Precision @ K\n",
    "    recall = recall_at_k(labels, scores, k)\n",
    "    precision = precision_at_k(labels, scores, k)\n",
    "\n",
    "    # Recall + Precision\n",
    "    rp =  recall + precision\n",
    "\n",
    "    # Вычисляем F1-Score @ K\n",
    "    f1_score_at_k = (2 * recall * precision) / rp if rp > 0 else 0.0\n",
    "\n",
    "    return f1_score_at_k\n"
   ]
  },
  {
   "cell_type": "code",
   "execution_count": 75,
   "id": "4b9a6a3d-b7be-43a4-a9b0-cf187c40bcb6",
   "metadata": {},
   "outputs": [],
   "source": [
    "labels = [1, 0, 1, 0, 1, 0, 1, 1, 1]\n",
    "scores = [0.8, 0.6, 0.9, 0.4, 0.7, 0.9, 0.5, 0.4]\n"
   ]
  },
  {
   "cell_type": "code",
   "execution_count": 76,
   "id": "12b2f2b4-e801-42ab-b0dd-b3055e0d3389",
   "metadata": {},
   "outputs": [
    {
     "data": {
      "text/plain": [
       "0.5"
      ]
     },
     "execution_count": 76,
     "metadata": {},
     "output_type": "execute_result"
    }
   ],
   "source": [
    "recall_at_k(labels, scores, 4)"
   ]
  },
  {
   "cell_type": "code",
   "execution_count": 77,
   "id": "e2594fc0-8958-4621-a7ce-c1ef0090aaa2",
   "metadata": {},
   "outputs": [
    {
     "data": {
      "text/plain": [
       "0.75"
      ]
     },
     "execution_count": 77,
     "metadata": {},
     "output_type": "execute_result"
    }
   ],
   "source": [
    "precision_at_k(labels, scores, 4)"
   ]
  },
  {
   "cell_type": "code",
   "execution_count": 78,
   "id": "62f6e52d-05a8-4338-9d00-093569bfbaaa",
   "metadata": {},
   "outputs": [
    {
     "name": "stdout",
     "output_type": "stream",
     "text": [
      "\n"
     ]
    },
    {
     "data": {
      "text/plain": [
       "0.3333333333333333"
      ]
     },
     "execution_count": 78,
     "metadata": {},
     "output_type": "execute_result"
    }
   ],
   "source": [
    "specificity_at_k(labels, scores, 4)"
   ]
  },
  {
   "cell_type": "code",
   "execution_count": 63,
   "id": "c8ec1037-7409-409f-a9ef-ac74a241c8ea",
   "metadata": {},
   "outputs": [
    {
     "data": {
      "text/plain": [
       "0.6"
      ]
     },
     "execution_count": 63,
     "metadata": {},
     "output_type": "execute_result"
    }
   ],
   "source": [
    "f1_at_k(labels, scores, 4)"
   ]
  },
  {
   "cell_type": "code",
   "execution_count": null,
   "id": "d2c8cb38-d43e-4290-9b63-72cefffd941f",
   "metadata": {},
   "outputs": [],
   "source": []
  }
 ],
 "metadata": {
  "kernelspec": {
   "display_name": "Python 3 (ipykernel)",
   "language": "python",
   "name": "python3"
  },
  "language_info": {
   "codemirror_mode": {
    "name": "ipython",
    "version": 3
   },
   "file_extension": ".py",
   "mimetype": "text/x-python",
   "name": "python",
   "nbconvert_exporter": "python",
   "pygments_lexer": "ipython3",
   "version": "3.11.0"
  }
 },
 "nbformat": 4,
 "nbformat_minor": 5
}
