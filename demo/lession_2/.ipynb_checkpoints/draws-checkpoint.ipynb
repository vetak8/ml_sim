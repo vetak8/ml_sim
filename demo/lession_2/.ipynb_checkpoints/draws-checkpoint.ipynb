{
 "cells": [
  {
   "cell_type": "code",
   "execution_count": 14,
   "id": "5d2a3bb1-eefb-4366-b322-c8be6a6c88c3",
   "metadata": {},
   "outputs": [],
   "source": [
    "import re\n",
    "from typing import List\n",
    "\n",
    "\n",
    "def valid_emails(strings: List[str]) -> List[str]:\n",
    "    \"\"\"Take list of potential emails and returns only valid ones\"\"\"\n",
    "\n",
    "    # valid_email_regex = r\"^[a-zA-Z0-9_.+-]+@[a-zA-Z0-9-]+\\.[a-zA-Z]{2,}$\"\n",
    "    valid_email_regex = re.compile(r\"^[a-zA-Z0-9_.+-]+@[a-zA-Z0-9-]+\\.[a-zA-Z]{2,}$\")\n",
    "    def is_valid_email(email: str) -> bool:\n",
    "        return bool(valid_email_regex.fullmatch(email))\n",
    "\n",
    "    emails = []\n",
    "    for email in strings:\n",
    "        if is_valid_email(email):\n",
    "            emails.append(email)\n",
    "\n",
    "    return [email for email in strings if is_valid_email(email)]\n",
    "\n",
    "\n"
   ]
  },
  {
   "cell_type": "code",
   "execution_count": 5,
   "id": "1c2eb15f-3d66-4b63-85ba-7a716a1d3742",
   "metadata": {},
   "outputs": [],
   "source": [
    "import numpy as np\n",
    "\n",
    "\n",
    "def turnover_error(y_true: np.array, y_pred: np.array) -> float:\n",
    "    n = len(y_true)\n",
    "    error = np.sqrt((np.sum((np.log(y_true) - np.log(y_pred)) ** 2) / n))\n",
    "    return error"
   ]
  },
  {
   "cell_type": "code",
   "execution_count": 12,
   "id": "baacb7fe-0cc2-4419-b565-40e79029d014",
   "metadata": {},
   "outputs": [
    {
     "name": "stdout",
     "output_type": "stream",
     "text": [
      "True Values: [ 7.74172214 18.11285752 14.17589095 11.77585272  3.80833553]\n",
      "Predicted Values: [ 7.87229274 17.66434649 14.31353212  8.79449934  3.4788277 ]\n"
     ]
    }
   ],
   "source": [
    "\n",
    "\n",
    "def generate_data(num_samples=100):\n",
    "    np.random.seed(42)\n",
    "    # Генерация случайных истинных значений\n",
    "    y_true = np.random.uniform(low=1.0, high=19.0, size=num_samples)\n",
    "    \n",
    "    # Добавление случайного шума к истинным значениям для создания предсказанных значений\n",
    "    noise = np.random.normal(loc=0, scale=1.5, size=num_samples)\n",
    "    y_pred = y_true + noise\n",
    "    \n",
    "    return y_true, y_pred\n",
    "\n",
    "# Пример использования\n",
    "y_true, y_pred = generate_data()\n",
    "print(\"True Values:\", y_true[:5])\n",
    "print(\"Predicted Values:\", y_pred[:5])\n"
   ]
  },
  {
   "cell_type": "code",
   "execution_count": 13,
   "id": "c9eb6f69-d3fc-490b-8f46-25ffbadc6eeb",
   "metadata": {},
   "outputs": [
    {
     "data": {
      "text/plain": [
       "0.312733894132374"
      ]
     },
     "execution_count": 13,
     "metadata": {},
     "output_type": "execute_result"
    }
   ],
   "source": [
    "turnover_error(y_true, y_pred)"
   ]
  },
  {
   "cell_type": "code",
   "execution_count": null,
   "id": "83bd0494-7f04-43f8-a3ca-27d430258554",
   "metadata": {},
   "outputs": [],
   "source": []
  }
 ],
 "metadata": {
  "kernelspec": {
   "display_name": "Python 3 (ipykernel)",
   "language": "python",
   "name": "python3"
  },
  "language_info": {
   "codemirror_mode": {
    "name": "ipython",
    "version": 3
   },
   "file_extension": ".py",
   "mimetype": "text/x-python",
   "name": "python",
   "nbconvert_exporter": "python",
   "pygments_lexer": "ipython3",
   "version": "3.11.0"
  }
 },
 "nbformat": 4,
 "nbformat_minor": 5
}
