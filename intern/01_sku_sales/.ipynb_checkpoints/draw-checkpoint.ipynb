{
 "cells": [
  {
   "cell_type": "code",
   "execution_count": 4,
   "id": "e814d3ba-cb64-4ed0-940b-d825d42fdf63",
   "metadata": {},
   "outputs": [],
   "source": [
    "import pandas as pd \n",
    "def limit_gmv(df: pd.DataFrame) -> pd.DataFrame:\n",
    "    rule = df['gmv'] / df['price']\n",
    "    if rule > df['stock']:\n",
    "        df['gmv'] = df['stock'] * df['price']\n",
    "    elif rule < df['stock']:\n",
    "        df['gmv'] = rule.floor() * df['price']\n",
    "    return df"
   ]
  },
  {
   "cell_type": "code",
   "execution_count": null,
   "id": "408fa365-342e-42a1-8f4b-edbd6d09748b",
   "metadata": {},
   "outputs": [],
   "source": []
  }
 ],
 "metadata": {
  "kernelspec": {
   "display_name": "Python 3 (ipykernel)",
   "language": "python",
   "name": "python3"
  },
  "language_info": {
   "codemirror_mode": {
    "name": "ipython",
    "version": 3
   },
   "file_extension": ".py",
   "mimetype": "text/x-python",
   "name": "python",
   "nbconvert_exporter": "python",
   "pygments_lexer": "ipython3",
   "version": "3.11.0"
  }
 },
 "nbformat": 4,
 "nbformat_minor": 5
}
