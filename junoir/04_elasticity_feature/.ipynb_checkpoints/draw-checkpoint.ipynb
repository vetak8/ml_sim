{
 "cells": [
  {
   "cell_type": "code",
   "execution_count": 102,
   "id": "540b2826-5b75-4831-91b7-0560c5fe1b42",
   "metadata": {},
   "outputs": [],
   "source": [
    "import pandas as pd\n",
    "import numpy as np\n",
    "from sklearn.linear_model import LinearRegression"
   ]
  },
  {
   "cell_type": "code",
   "execution_count": 98,
   "id": "185096dc-7d8b-4cfa-830b-bf223e6c8e13",
   "metadata": {},
   "outputs": [],
   "source": [
    "df = pd.read_csv('data.csv')"
   ]
  },
  {
   "cell_type": "code",
   "execution_count": 150,
   "id": "9de1b0ff-2f8c-438b-a3a5-0eb1f984e4ff",
   "metadata": {},
   "outputs": [],
   "source": [
    "def r_squared(y_true, y_pred):\n",
    "    mean_y = np.mean(y_true)\n",
    "    ss_total = np.sum((y_true - mean_y) ** 2)\n",
    "    ss_residual = np.sum((y_true - y_pred) ** 2)\n",
    "    r2 = 1 - (ss_residual / ss_total)\n",
    "    return r2\n",
    "    \n",
    "def elasticity_df(df: pd.DataFrame) -> pd.DataFrame:\n",
    "    results = []\n",
    "\n",
    "    # Группируем данные по SKU\n",
    "    grouped = df.groupby('sku')\n",
    "\n",
    "    # Для каждого SKU строим модель и рассчитываем эластичность\n",
    "    for sku, group in grouped:\n",
    "        # Преобразуем данные для удобства\n",
    "        X = group['price']\n",
    "        y = np.log(group['qty'] + 1)  # Преобразуем продажи к логарифмической шкале\n",
    "\n",
    "        # Вычисляем коэффициенты альфа и бета\n",
    "        beta, alpha = np.polyfit(X, y, 1)\n",
    "\n",
    "        # Прогнозируем значения y\n",
    "        y_pred = beta * X + alpha\n",
    "        \n",
    "        # Оцениваем эластичность\n",
    "        r2 = r_squared(y, y_pred)\n",
    "\n",
    "        results.append({'sku': sku, 'elasticity': r2})\n",
    "\n",
    "    return pd.DataFrame(results)\n"
   ]
  },
  {
   "cell_type": "code",
   "execution_count": 153,
   "id": "d5969692-ceb1-4de7-86cb-77ad7ac81666",
   "metadata": {},
   "outputs": [
    {
     "data": {
      "text/html": [
       "<div>\n",
       "<style scoped>\n",
       "    .dataframe tbody tr th:only-of-type {\n",
       "        vertical-align: middle;\n",
       "    }\n",
       "\n",
       "    .dataframe tbody tr th {\n",
       "        vertical-align: top;\n",
       "    }\n",
       "\n",
       "    .dataframe thead th {\n",
       "        text-align: right;\n",
       "    }\n",
       "</style>\n",
       "<table border=\"1\" class=\"dataframe\">\n",
       "  <thead>\n",
       "    <tr style=\"text-align: right;\">\n",
       "      <th></th>\n",
       "      <th>sku</th>\n",
       "      <th>elasticity</th>\n",
       "    </tr>\n",
       "  </thead>\n",
       "  <tbody>\n",
       "    <tr>\n",
       "      <th>0</th>\n",
       "      <td>10060</td>\n",
       "      <td>0.095843</td>\n",
       "    </tr>\n",
       "    <tr>\n",
       "      <th>1</th>\n",
       "      <td>10121</td>\n",
       "      <td>0.000908</td>\n",
       "    </tr>\n",
       "    <tr>\n",
       "      <th>2</th>\n",
       "      <td>10216</td>\n",
       "      <td>0.087274</td>\n",
       "    </tr>\n",
       "    <tr>\n",
       "      <th>3</th>\n",
       "      <td>10230</td>\n",
       "      <td>0.022500</td>\n",
       "    </tr>\n",
       "    <tr>\n",
       "      <th>4</th>\n",
       "      <td>10290</td>\n",
       "      <td>0.014347</td>\n",
       "    </tr>\n",
       "  </tbody>\n",
       "</table>\n",
       "</div>"
      ],
      "text/plain": [
       "     sku  elasticity\n",
       "0  10060    0.095843\n",
       "1  10121    0.000908\n",
       "2  10216    0.087274\n",
       "3  10230    0.022500\n",
       "4  10290    0.014347"
      ]
     },
     "execution_count": 153,
     "metadata": {},
     "output_type": "execute_result"
    }
   ],
   "source": [
    "elasticity_df(df)"
   ]
  }
 ],
 "metadata": {
  "kernelspec": {
   "display_name": "Python 3 (ipykernel)",
   "language": "python",
   "name": "python3"
  },
  "language_info": {
   "codemirror_mode": {
    "name": "ipython",
    "version": 3
   },
   "file_extension": ".py",
   "mimetype": "text/x-python",
   "name": "python",
   "nbconvert_exporter": "python",
   "pygments_lexer": "ipython3",
   "version": "3.11.0"
  }
 },
 "nbformat": 4,
 "nbformat_minor": 5
}
