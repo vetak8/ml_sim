{
 "cells": [
  {
   "cell_type": "code",
   "execution_count": 66,
   "id": "1f266398-0ab7-485c-9208-4469e69ce6d7",
   "metadata": {},
   "outputs": [],
   "source": [
    "from typing import List, Tuple\n",
    "from scipy import stats \n",
    "\n",
    "def ttest(\n",
    "    control: List[float],\n",
    "    experiment: List[float],\n",
    "    alpha: float = 0.05,\n",
    ") -> Tuple[float, bool]:\n",
    "    \"\"\"Two-sample t-test for the means of two independent samples\"\"\"\n",
    "    _, p_value = stats.ttest_ind(control, experiment, permutations=100000)\n",
    "    result =  p_value < alpha\n",
    "    return p_value, result\n"
   ]
  },
  {
   "cell_type": "code",
   "execution_count": 67,
   "id": "f35fddc2-1ba6-44cb-8102-c5db53399a0f",
   "metadata": {},
   "outputs": [
    {
     "data": {
      "text/plain": [
       "(0.14285714285714285, False)"
      ]
     },
     "execution_count": 67,
     "metadata": {},
     "output_type": "execute_result"
    }
   ],
   "source": [
    "ttest([1, 2, 3, 6],[6, 6, 6, 6])"
   ]
  },
  {
   "cell_type": "code",
   "execution_count": 62,
   "id": "f708fb5b-86fb-44bc-bb25-e5bf7001683e",
   "metadata": {},
   "outputs": [
    {
     "data": {
      "text/plain": [
       "(0.6857142857142857, False)"
      ]
     },
     "execution_count": 62,
     "metadata": {},
     "output_type": "execute_result"
    }
   ],
   "source": [
    "ttest([1, 2, 3, 6], [1, 2, 3])"
   ]
  },
  {
   "cell_type": "code",
   "execution_count": 44,
   "id": "62fda62f-add7-4ae8-8126-9112a3406b54",
   "metadata": {},
   "outputs": [],
   "source": [
    "from typing import List, Tuple\n",
    "from scipy import stats\n",
    "\n",
    "def ttest(\n",
    "    control: List[float],\n",
    "    experiment: List[float],\n",
    "    alpha: float = 0.05,\n",
    ") -> Tuple[float, bool]:\n",
    "    \"\"\"\n",
    "    Two-sample Mann-Whitney U test for the means of two independent samples.\n",
    "    \n",
    "    Parameters:\n",
    "        control: List[float]: The error predictions for the control group.\n",
    "        experiment: List[float]: The error predictions for the experimental group.\n",
    "        alpha: float: The significance level for the test.\n",
    "    \n",
    "    Returns:\n",
    "        Tuple[float, bool]: The p-value of the test and a boolean indicating whether the difference is significant.\n",
    "    \"\"\"\n",
    "    _, p_value = stats.mannwhitneyu(control, experiment, alternative='two-sided')\n",
    "    result = p_value < alpha\n",
    "    return p_value, result\n"
   ]
  },
  {
   "cell_type": "code",
   "execution_count": 39,
   "id": "b800945f-749b-4d25-b854-ebe343171d21",
   "metadata": {},
   "outputs": [
    {
     "data": {
      "text/plain": [
       "(1.0, False)"
      ]
     },
     "execution_count": 39,
     "metadata": {},
     "output_type": "execute_result"
    }
   ],
   "source": [
    "ttest([1, 2, 3, 6], [1, 2, 3, 6])"
   ]
  },
  {
   "cell_type": "code",
   "execution_count": null,
   "id": "4fc5337c-5eca-4e1b-94bc-2975279fa1d1",
   "metadata": {},
   "outputs": [],
   "source": []
  }
 ],
 "metadata": {
  "kernelspec": {
   "display_name": "Python 3 (ipykernel)",
   "language": "python",
   "name": "python3"
  },
  "language_info": {
   "codemirror_mode": {
    "name": "ipython",
    "version": 3
   },
   "file_extension": ".py",
   "mimetype": "text/x-python",
   "name": "python",
   "nbconvert_exporter": "python",
   "pygments_lexer": "ipython3",
   "version": "3.11.0"
  }
 },
 "nbformat": 4,
 "nbformat_minor": 5
}
