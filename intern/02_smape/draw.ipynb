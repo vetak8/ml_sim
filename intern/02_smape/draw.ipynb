{
 "cells": [
  {
   "cell_type": "code",
   "execution_count": 24,
   "id": "1098601f-b101-4f8a-84bf-d5c0c29fb93c",
   "metadata": {},
   "outputs": [],
   "source": [
    "import numpy as np\n",
    "\n",
    "\n",
    "def smape(y_true: np.array, y_pred: np.array) -> float:\n",
    "    return np.mean(2 * np.abs(y_true - y_pred) / (np.abs(y_true) + np.abs(y_pred)))"
   ]
  },
  {
   "cell_type": "code",
   "execution_count": 25,
   "id": "824705e5-f7eb-4492-885c-1aa4f3baef32",
   "metadata": {},
   "outputs": [],
   "source": [
    "y_true = np.array([0.1, 0.2, 0.001, 0])\n",
    "y_pred = np.array([0.13, 0.22, 0.00111, 0])"
   ]
  },
  {
   "cell_type": "code",
   "execution_count": 26,
   "id": "ef65a65d-73dd-454b-8a89-953405eaf654",
   "metadata": {},
   "outputs": [
    {
     "name": "stderr",
     "output_type": "stream",
     "text": [
      "C:\\Users\\PC\\AppData\\Local\\Temp\\ipykernel_13688\\360047172.py:5: RuntimeWarning: invalid value encountered in divide\n",
      "  return np.mean(2 * np.abs(y_true - y_pred) / (np.abs(y_true) + np.abs(y_pred)))\n"
     ]
    },
    {
     "data": {
      "text/plain": [
       "nan"
      ]
     },
     "execution_count": 26,
     "metadata": {},
     "output_type": "execute_result"
    }
   ],
   "source": [
    "smape(y_true, y_pred)"
   ]
  },
  {
   "cell_type": "code",
   "execution_count": 27,
   "id": "f7597ee3-8da2-47b1-b16b-f32e0c993f53",
   "metadata": {},
   "outputs": [],
   "source": [
    "import numpy as np\n",
    "\n",
    "def smape(y_true: np.array, y_pred: np.array) -> float:\n",
    "    '''Calculate sMAPE'''\n",
    "    abs_diff = np.abs(y_true - y_pred)\n",
    "    # Вычисляем знаменатель\n",
    "    denominator = np.abs(y_true) + np.abs(y_pred)\n",
    "    # Для случая, когда и y_pred и y_true близки к нулю\n",
    "    zero_mask = np.isclose(y_true, 0) & np.isclose(y_pred, 0)\n",
    "    denominator[zero_mask] = 1  #Установим в ненулувое значние\n",
    "    # Calculate sMAPE\n",
    "    result = np.mean(2 * abs_diff / denominator)\n",
    "    \n",
    "    return result"
   ]
  },
  {
   "cell_type": "code",
   "execution_count": 28,
   "id": "4c364aa4-061a-4125-9274-5390bf8d9079",
   "metadata": {},
   "outputs": [
    {
     "data": {
      "text/plain": [
       "0.11509326582477211"
      ]
     },
     "execution_count": 28,
     "metadata": {},
     "output_type": "execute_result"
    }
   ],
   "source": [
    "smape(y_true, y_pred)"
   ]
  },
  {
   "cell_type": "code",
   "execution_count": null,
   "id": "9bf7d48e-d8ef-4092-9aa2-6c4a1386dc77",
   "metadata": {},
   "outputs": [],
   "source": []
  }
 ],
 "metadata": {
  "kernelspec": {
   "display_name": "Python 3 (ipykernel)",
   "language": "python",
   "name": "python3"
  },
  "language_info": {
   "codemirror_mode": {
    "name": "ipython",
    "version": 3
   },
   "file_extension": ".py",
   "mimetype": "text/x-python",
   "name": "python",
   "nbconvert_exporter": "python",
   "pygments_lexer": "ipython3",
   "version": "3.11.0"
  }
 },
 "nbformat": 4,
 "nbformat_minor": 5
}
