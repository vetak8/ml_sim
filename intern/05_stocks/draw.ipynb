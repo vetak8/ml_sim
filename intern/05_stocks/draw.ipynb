{
 "cells": [
  {
   "cell_type": "code",
   "execution_count": 25,
   "id": "8176f4ea-45ed-483c-9a11-1e817912e5f8",
   "metadata": {},
   "outputs": [
    {
     "name": "stdout",
     "output_type": "stream",
     "text": [
      "   sku    gmv  price  stock\n",
      "0  100  300.0    100      3\n",
      "1  200  490.0     70      7\n",
      "2  300  480.0    120      5\n"
     ]
    }
   ],
   "source": [
    "import pandas as pd\n",
    "import numpy as np\n",
    "\n",
    "def limit_gmv(df: pd.DataFrame) -> pd.DataFrame:\n",
    "    def get_right_gmv(gmv, price, stock):\n",
    "        condition = gmv / price\n",
    "        if condition > stock:\n",
    "            gmv = price * stock\n",
    "        elif condition < stock:\n",
    "            gmv = price * np.floor(condition)\n",
    "        return gmv\n",
    "\n",
    "    df = df.copy()\n",
    "    df['gmv'] = df[['gmv', 'price', 'stock']].apply(lambda row: get_right_gmv(*row), axis=1)\n",
    "\n",
    "    return df\n",
    "\n",
    "# Пример использования\n",
    "data = {'sku': [100, 200, 300],\n",
    "        'gmv': [400, 650, 500],\n",
    "        'price': [100, 70, 120],\n",
    "        'stock': [3, 7, 5]}\n",
    "df = pd.DataFrame(data)\n",
    "\n",
    "result_df = limit_gmv(df)\n",
    "print(result_df)\n"
   ]
  },
  {
   "cell_type": "code",
   "execution_count": 22,
   "id": "83a2f327-8b8a-49f2-b79a-82629a6825b2",
   "metadata": {},
   "outputs": [
    {
     "data": {
      "text/html": [
       "<div>\n",
       "<style scoped>\n",
       "    .dataframe tbody tr th:only-of-type {\n",
       "        vertical-align: middle;\n",
       "    }\n",
       "\n",
       "    .dataframe tbody tr th {\n",
       "        vertical-align: top;\n",
       "    }\n",
       "\n",
       "    .dataframe thead th {\n",
       "        text-align: right;\n",
       "    }\n",
       "</style>\n",
       "<table border=\"1\" class=\"dataframe\">\n",
       "  <thead>\n",
       "    <tr style=\"text-align: right;\">\n",
       "      <th></th>\n",
       "      <th>sku</th>\n",
       "      <th>gmv</th>\n",
       "      <th>price</th>\n",
       "      <th>stock</th>\n",
       "    </tr>\n",
       "  </thead>\n",
       "  <tbody>\n",
       "    <tr>\n",
       "      <th>0</th>\n",
       "      <td>100</td>\n",
       "      <td>300.0</td>\n",
       "      <td>100</td>\n",
       "      <td>3</td>\n",
       "    </tr>\n",
       "    <tr>\n",
       "      <th>1</th>\n",
       "      <td>200</td>\n",
       "      <td>350.0</td>\n",
       "      <td>70</td>\n",
       "      <td>10</td>\n",
       "    </tr>\n",
       "    <tr>\n",
       "      <th>2</th>\n",
       "      <td>300</td>\n",
       "      <td>480.0</td>\n",
       "      <td>120</td>\n",
       "      <td>5</td>\n",
       "    </tr>\n",
       "  </tbody>\n",
       "</table>\n",
       "</div>"
      ],
      "text/plain": [
       "   sku    gmv  price  stock\n",
       "0  100  300.0    100      3\n",
       "1  200  350.0     70     10\n",
       "2  300  480.0    120      5"
      ]
     },
     "execution_count": 22,
     "metadata": {},
     "output_type": "execute_result"
    }
   ],
   "source": [
    "limit_gmv(df)"
   ]
  },
  {
   "cell_type": "code",
   "execution_count": 26,
   "id": "5342bb1d-8293-4e9c-bcb8-a4ffd1a7369f",
   "metadata": {},
   "outputs": [
    {
     "name": "stdout",
     "output_type": "stream",
     "text": [
      "   sku    gmv  price  stock\n",
      "0  100  300.0    100      3\n",
      "1  200  350.0     70     10\n",
      "2  300  480.0    120      5\n"
     ]
    }
   ],
   "source": [
    "import pandas as pd\n",
    "import numpy as np\n",
    "\n",
    "def limit_gmv(df: pd.DataFrame) -> pd.DataFrame:\n",
    "    condition = df['gmv'] / df['price']\n",
    "\n",
    "    # Use numpy functions to efficiently calculate the adjusted GMV\n",
    "    df['gmv'] = np.where(condition > df['stock'], \n",
    "                         df['price'] * df['stock'],\n",
    "                         df['price'] * np.floor(condition))\n",
    "\n",
    "    return df\n",
    "\n",
    "# Пример использования\n",
    "data = {'sku': [100, 200, 300],\n",
    "        'gmv': [400, 350, 500],\n",
    "        'price': [100, 70, 120],\n",
    "        'stock': [3, 10, 5]}\n",
    "df = pd.DataFrame(data)\n",
    "\n",
    "result_df = limit_gmv(df)\n",
    "print(result_df)\n"
   ]
  },
  {
   "cell_type": "code",
   "execution_count": null,
   "id": "20e512b3-5917-4d4b-b1bd-4b3022f9868f",
   "metadata": {},
   "outputs": [],
   "source": []
  }
 ],
 "metadata": {
  "kernelspec": {
   "display_name": "Python 3 (ipykernel)",
   "language": "python",
   "name": "python3"
  },
  "language_info": {
   "codemirror_mode": {
    "name": "ipython",
    "version": 3
   },
   "file_extension": ".py",
   "mimetype": "text/x-python",
   "name": "python",
   "nbconvert_exporter": "python",
   "pygments_lexer": "ipython3",
   "version": "3.11.0"
  }
 },
 "nbformat": 4,
 "nbformat_minor": 5
}
