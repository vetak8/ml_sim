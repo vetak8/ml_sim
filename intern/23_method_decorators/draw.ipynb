{
 "cells": [
  {
   "cell_type": "code",
   "execution_count": 35,
   "id": "b18bf3ec-75dc-4db8-aa21-7d79445de81c",
   "metadata": {},
   "outputs": [],
   "source": [
    "from __future__ import annotations\n",
    "from typing import List\n",
    "from functools import reduce\n",
    "\n",
    "class BankMetrics:\n",
    "    \"\"\"\n",
    "    A class to represent bank metrics.\n",
    "\n",
    "    Attributes\n",
    "    ----------\n",
    "    global_bank_rate : float\n",
    "        The global bank rate applicable to all accounts.\n",
    "    accounts : List[BankMetrics]\n",
    "        A list of BankMetrics instances representing bank accounts.\n",
    "\n",
    "    Methods\n",
    "    -------\n",
    "    __init__(name: str, balance: float):\n",
    "        Initializes a new BankMetrics instance with a name and balance.\n",
    "    adjust_global_bank_rate(new_rate: float):\n",
    "        Method to adjust the global bank rate.\n",
    "    calculate_avg_balance() -> float:\n",
    "        Method to calculate the average balance across all accounts.\n",
    "    calculate_interest(account: BankMetrics) -> float:\n",
    "        Method to calculate interest for a given account.\n",
    "    \"\"\"\n",
    "\n",
    "    global_bank_rate: float = 15.0\n",
    "    accounts: List[BankMetrics] = []\n",
    "\n",
    "    def __init__(self, name: str, balance: float):\n",
    "        self.name = name\n",
    "        self.balance = balance\n",
    "        BankMetrics.accounts.append(self)\n",
    "\n",
    "    @staticmethod\n",
    "    def adjust_global_bank_rate(rate):\n",
    "        BankMetrics.global_bank_rate = rate\n",
    "\n",
    "    @classmethod\n",
    "    def calculate_avg_balance(cls) -> float:\n",
    "        n = len(cls.accounts)\n",
    "        sum = reduce(lambda x, y: x + y.balance , cls.accounts, 0)\n",
    "        return sum / n\n",
    "\n",
    "    @classmethod\n",
    "    def calculate_interest(cls, self) -> float:\n",
    "        return cls.accounts[cls.accounts.index(self)].balance * cls.global_bank_rate / 100\n",
    "\n",
    "\n",
    "if __name__ == \"__main__\":\n",
    "    Account1 = BankMetrics(\"Tom\", 15000)\n",
    "    Account2 = BankMetrics(\"Jerry\", 20000)\n",
    "    Account3 = BankMetrics(\"Spike\", 10000)\n",
    "\n",
    "    assert BankMetrics.calculate_avg_balance() == 15000\n",
    "\n",
    "    BankMetrics.adjust_global_bank_rate(16.0)\n",
    "    assert BankMetrics.global_bank_rate == 16.0\n",
    "\n",
    "    assert BankMetrics.calculate_interest(Account1) == 2400.0\n"
   ]
  },
  {
   "cell_type": "code",
   "execution_count": 36,
   "id": "007a32db-26b4-4719-bb09-5177cec6d01d",
   "metadata": {},
   "outputs": [
    {
     "data": {
      "text/plain": [
       "15000.0"
      ]
     },
     "execution_count": 36,
     "metadata": {},
     "output_type": "execute_result"
    }
   ],
   "source": [
    "BankMetrics.calculate_avg_balance()"
   ]
  },
  {
   "cell_type": "code",
   "execution_count": 19,
   "id": "0adbda2b-a1ef-4c15-8843-f4aaff6a0bfc",
   "metadata": {},
   "outputs": [],
   "source": [
    "BankMetrics.adjust_global_bank_rate(1.0)"
   ]
  },
  {
   "cell_type": "code",
   "execution_count": 28,
   "id": "0f8855ec-f49b-42d9-9e73-9e271273c5f9",
   "metadata": {},
   "outputs": [
    {
     "data": {
      "text/plain": [
       "2400.0"
      ]
     },
     "execution_count": 28,
     "metadata": {},
     "output_type": "execute_result"
    }
   ],
   "source": [
    "BankMetrics.calculate_interest(Account1)"
   ]
  },
  {
   "cell_type": "code",
   "execution_count": null,
   "id": "ee8012ee-9499-4ca2-a2cc-93d182477b4f",
   "metadata": {},
   "outputs": [],
   "source": []
  }
 ],
 "metadata": {
  "kernelspec": {
   "display_name": "Python 3 (ipykernel)",
   "language": "python",
   "name": "python3"
  },
  "language_info": {
   "codemirror_mode": {
    "name": "ipython",
    "version": 3
   },
   "file_extension": ".py",
   "mimetype": "text/x-python",
   "name": "python",
   "nbconvert_exporter": "python",
   "pygments_lexer": "ipython3",
   "version": "3.11.0"
  }
 },
 "nbformat": 4,
 "nbformat_minor": 5
}
