{
 "cells": [
  {
   "cell_type": "code",
   "execution_count": 12,
   "id": "3c69f5fd-672f-4f1f-b0d9-76eba71a6dfd",
   "metadata": {},
   "outputs": [],
   "source": [
    "import pandas as pd\n",
    "import os\n",
    "from catboost import CatBoostRegressor"
   ]
  },
  {
   "cell_type": "code",
   "execution_count": 2,
   "id": "e343f6e2-6e6e-4039-9335-75bae55322da",
   "metadata": {},
   "outputs": [],
   "source": [
    "data_path = 'D:/DATA SCIENSE/ml_sim/medium/03_sku_price_prediction/data/'"
   ]
  },
  {
   "cell_type": "code",
   "execution_count": 3,
   "id": "83c50a07-88a9-4e78-8a1d-906e62868a46",
   "metadata": {},
   "outputs": [
    {
     "data": {
      "text/plain": [
       "['conc_df.csv',\n",
       " 'first_group_sku.csv',\n",
       " 'promo_1510002.csv',\n",
       " 'second_group_sku.csv',\n",
       " 'sku_dict.csv',\n",
       " 'test.csv',\n",
       " 'third_group_sku.csv']"
      ]
     },
     "execution_count": 3,
     "metadata": {},
     "output_type": "execute_result"
    }
   ],
   "source": [
    "os.listdir(data_path)"
   ]
  },
  {
   "cell_type": "code",
   "execution_count": 4,
   "id": "0fdc4415-06f4-414f-892e-82eeff56eed1",
   "metadata": {},
   "outputs": [],
   "source": [
    "test = pd.read_csv(data_path + 'test.csv')"
   ]
  },
  {
   "cell_type": "code",
   "execution_count": 5,
   "id": "74b75e70-8fe5-42f0-a7cb-bdf74d958e74",
   "metadata": {},
   "outputs": [],
   "source": [
    "first_group_sku = pd.read_csv(data_path + 'first_group_sku.csv')\n",
    "second_group_sku = pd.read_csv(data_path + 'second_group_sku.csv')\n",
    "third_group_sku = pd.read_csv(data_path + 'third_group_sku.csv')"
   ]
  },
  {
   "cell_type": "code",
   "execution_count": 6,
   "id": "2345e4b8-3cbc-4efd-85c5-9f0827c78544",
   "metadata": {},
   "outputs": [],
   "source": [
    "train = pd.concat([first_group_sku, second_group_sku, third_group_sku])"
   ]
  },
  {
   "cell_type": "code",
   "execution_count": 7,
   "id": "3a1c300e-6024-4873-8825-aa314c48899d",
   "metadata": {},
   "outputs": [
    {
     "data": {
      "text/html": [
       "<div>\n",
       "<style scoped>\n",
       "    .dataframe tbody tr th:only-of-type {\n",
       "        vertical-align: middle;\n",
       "    }\n",
       "\n",
       "    .dataframe tbody tr th {\n",
       "        vertical-align: top;\n",
       "    }\n",
       "\n",
       "    .dataframe thead th {\n",
       "        text-align: right;\n",
       "    }\n",
       "</style>\n",
       "<table border=\"1\" class=\"dataframe\">\n",
       "  <thead>\n",
       "    <tr style=\"text-align: right;\">\n",
       "      <th></th>\n",
       "      <th>dates</th>\n",
       "      <th>SKU</th>\n",
       "      <th>price_per_sku</th>\n",
       "      <th>num_purchases</th>\n",
       "    </tr>\n",
       "  </thead>\n",
       "  <tbody>\n",
       "    <tr>\n",
       "      <th>0</th>\n",
       "      <td>2018-04-20</td>\n",
       "      <td>32950</td>\n",
       "      <td>422.975</td>\n",
       "      <td>3</td>\n",
       "    </tr>\n",
       "    <tr>\n",
       "      <th>1</th>\n",
       "      <td>2018-04-24</td>\n",
       "      <td>32950</td>\n",
       "      <td>429.275</td>\n",
       "      <td>3</td>\n",
       "    </tr>\n",
       "    <tr>\n",
       "      <th>2</th>\n",
       "      <td>2018-04-27</td>\n",
       "      <td>32950</td>\n",
       "      <td>435.100</td>\n",
       "      <td>3</td>\n",
       "    </tr>\n",
       "    <tr>\n",
       "      <th>3</th>\n",
       "      <td>2018-04-30</td>\n",
       "      <td>32950</td>\n",
       "      <td>NaN</td>\n",
       "      <td>1</td>\n",
       "    </tr>\n",
       "    <tr>\n",
       "      <th>4</th>\n",
       "      <td>2018-05-03</td>\n",
       "      <td>32950</td>\n",
       "      <td>440.950</td>\n",
       "      <td>2</td>\n",
       "    </tr>\n",
       "    <tr>\n",
       "      <th>...</th>\n",
       "      <td>...</td>\n",
       "      <td>...</td>\n",
       "      <td>...</td>\n",
       "      <td>...</td>\n",
       "    </tr>\n",
       "    <tr>\n",
       "      <th>2776</th>\n",
       "      <td>2019-12-17</td>\n",
       "      <td>89272</td>\n",
       "      <td>124.996</td>\n",
       "      <td>5</td>\n",
       "    </tr>\n",
       "    <tr>\n",
       "      <th>2777</th>\n",
       "      <td>2019-12-18</td>\n",
       "      <td>89272</td>\n",
       "      <td>124.996</td>\n",
       "      <td>6</td>\n",
       "    </tr>\n",
       "    <tr>\n",
       "      <th>2778</th>\n",
       "      <td>2019-12-19</td>\n",
       "      <td>89272</td>\n",
       "      <td>124.996</td>\n",
       "      <td>5</td>\n",
       "    </tr>\n",
       "    <tr>\n",
       "      <th>2779</th>\n",
       "      <td>2019-12-20</td>\n",
       "      <td>89272</td>\n",
       "      <td>124.996</td>\n",
       "      <td>6</td>\n",
       "    </tr>\n",
       "    <tr>\n",
       "      <th>2780</th>\n",
       "      <td>2019-12-21</td>\n",
       "      <td>89272</td>\n",
       "      <td>124.996</td>\n",
       "      <td>6</td>\n",
       "    </tr>\n",
       "  </tbody>\n",
       "</table>\n",
       "<p>6775 rows × 4 columns</p>\n",
       "</div>"
      ],
      "text/plain": [
       "           dates    SKU  price_per_sku  num_purchases\n",
       "0     2018-04-20  32950        422.975              3\n",
       "1     2018-04-24  32950        429.275              3\n",
       "2     2018-04-27  32950        435.100              3\n",
       "3     2018-04-30  32950            NaN              1\n",
       "4     2018-05-03  32950        440.950              2\n",
       "...          ...    ...            ...            ...\n",
       "2776  2019-12-17  89272        124.996              5\n",
       "2777  2019-12-18  89272        124.996              6\n",
       "2778  2019-12-19  89272        124.996              5\n",
       "2779  2019-12-20  89272        124.996              6\n",
       "2780  2019-12-21  89272        124.996              6\n",
       "\n",
       "[6775 rows x 4 columns]"
      ]
     },
     "execution_count": 7,
     "metadata": {},
     "output_type": "execute_result"
    }
   ],
   "source": [
    "train"
   ]
  },
  {
   "cell_type": "code",
   "execution_count": 17,
   "id": "d49cd312-c4be-4302-b534-b928ddc0e3cf",
   "metadata": {},
   "outputs": [],
   "source": [
    "predict = train.groupby('SKU')['price_per_sku'].mean().to_dict()"
   ]
  },
  {
   "cell_type": "code",
   "execution_count": 22,
   "id": "c5c77238-028e-40e6-9dbd-128ab83ae965",
   "metadata": {},
   "outputs": [
    {
     "name": "stdout",
     "output_type": "stream",
     "text": [
      "<class 'pandas.core.frame.DataFrame'>\n",
      "RangeIndex: 175 entries, 0 to 174\n",
      "Data columns (total 2 columns):\n",
      " #   Column  Non-Null Count  Dtype \n",
      "---  ------  --------------  ----- \n",
      " 0   dates   175 non-null    object\n",
      " 1   SKU     175 non-null    int64 \n",
      "dtypes: int64(1), object(1)\n",
      "memory usage: 2.9+ KB\n"
     ]
    }
   ],
   "source": [
    "test.info()"
   ]
  },
  {
   "cell_type": "code",
   "execution_count": 23,
   "id": "8d9ca8ea-9fab-4b90-87c7-b4ecc50e0e4a",
   "metadata": {},
   "outputs": [
    {
     "data": {
      "text/plain": [
       "{10334: 96.13861031390135,\n",
       " 11050: 105.9856728110599,\n",
       " 17812: 73.7919329032258,\n",
       " 19632: 156.64278823529412,\n",
       " 24125: 109.44264444444444,\n",
       " 32950: 454.7423809523809,\n",
       " 36096: 132.16805789473685,\n",
       " 38767: 68.1654007430998,\n",
       " 43678: 145.07111811023623,\n",
       " 49661: 160.69191324200915,\n",
       " 54404: 83.58744905660377,\n",
       " 57561: 95.11115488372093,\n",
       " 60870: 112.21786292834891,\n",
       " 64619: 150.9417843137255,\n",
       " 68211: 161.86045568627452,\n",
       " 69997: 135.500425,\n",
       " 72784: 128.74046741344196,\n",
       " 78833: 307.276171875,\n",
       " 80308: 117.76484473684211,\n",
       " 80631: 88.97601840490798,\n",
       " 83329: 85.29272412587413,\n",
       " 84395: 135.82664464692482,\n",
       " 89272: 120.94687209302326,\n",
       " 90611: 88.81867673160173,\n",
       " 98255: 67.03469230769231}"
      ]
     },
     "execution_count": 23,
     "metadata": {},
     "output_type": "execute_result"
    }
   ],
   "source": [
    "predict"
   ]
  },
  {
   "cell_type": "code",
   "execution_count": 27,
   "id": "438e2391-1990-453d-b117-1d5386780e10",
   "metadata": {},
   "outputs": [],
   "source": [
    "test['price_per_sku'] = test['SKU'].map(predict)"
   ]
  },
  {
   "cell_type": "code",
   "execution_count": 29,
   "id": "0153d129-58c9-4ca9-bbbf-29844465dab8",
   "metadata": {},
   "outputs": [],
   "source": [
    "test.to_csv('predict.csv', index=False)"
   ]
  },
  {
   "cell_type": "code",
   "execution_count": 30,
   "id": "a056191c-a9e5-4449-a9e6-78a695caad64",
   "metadata": {},
   "outputs": [
    {
     "data": {
      "text/html": [
       "<div>\n",
       "<style scoped>\n",
       "    .dataframe tbody tr th:only-of-type {\n",
       "        vertical-align: middle;\n",
       "    }\n",
       "\n",
       "    .dataframe tbody tr th {\n",
       "        vertical-align: top;\n",
       "    }\n",
       "\n",
       "    .dataframe thead th {\n",
       "        text-align: right;\n",
       "    }\n",
       "</style>\n",
       "<table border=\"1\" class=\"dataframe\">\n",
       "  <thead>\n",
       "    <tr style=\"text-align: right;\">\n",
       "      <th></th>\n",
       "      <th>dates</th>\n",
       "      <th>SKU</th>\n",
       "      <th>price_per_sku</th>\n",
       "    </tr>\n",
       "  </thead>\n",
       "  <tbody>\n",
       "    <tr>\n",
       "      <th>0</th>\n",
       "      <td>2018-12-17</td>\n",
       "      <td>98255</td>\n",
       "      <td>67.034692</td>\n",
       "    </tr>\n",
       "    <tr>\n",
       "      <th>1</th>\n",
       "      <td>2018-12-21</td>\n",
       "      <td>98255</td>\n",
       "      <td>67.034692</td>\n",
       "    </tr>\n",
       "    <tr>\n",
       "      <th>2</th>\n",
       "      <td>2018-12-22</td>\n",
       "      <td>98255</td>\n",
       "      <td>67.034692</td>\n",
       "    </tr>\n",
       "    <tr>\n",
       "      <th>3</th>\n",
       "      <td>2018-12-23</td>\n",
       "      <td>98255</td>\n",
       "      <td>67.034692</td>\n",
       "    </tr>\n",
       "    <tr>\n",
       "      <th>4</th>\n",
       "      <td>2018-12-24</td>\n",
       "      <td>98255</td>\n",
       "      <td>67.034692</td>\n",
       "    </tr>\n",
       "    <tr>\n",
       "      <th>...</th>\n",
       "      <td>...</td>\n",
       "      <td>...</td>\n",
       "      <td>...</td>\n",
       "    </tr>\n",
       "    <tr>\n",
       "      <th>170</th>\n",
       "      <td>2019-12-31</td>\n",
       "      <td>80631</td>\n",
       "      <td>88.976018</td>\n",
       "    </tr>\n",
       "    <tr>\n",
       "      <th>171</th>\n",
       "      <td>2019-12-31</td>\n",
       "      <td>19632</td>\n",
       "      <td>156.642788</td>\n",
       "    </tr>\n",
       "    <tr>\n",
       "      <th>172</th>\n",
       "      <td>2019-12-31</td>\n",
       "      <td>84395</td>\n",
       "      <td>135.826645</td>\n",
       "    </tr>\n",
       "    <tr>\n",
       "      <th>173</th>\n",
       "      <td>2019-12-31</td>\n",
       "      <td>43678</td>\n",
       "      <td>145.071118</td>\n",
       "    </tr>\n",
       "    <tr>\n",
       "      <th>174</th>\n",
       "      <td>2019-12-31</td>\n",
       "      <td>49661</td>\n",
       "      <td>160.691913</td>\n",
       "    </tr>\n",
       "  </tbody>\n",
       "</table>\n",
       "<p>175 rows × 3 columns</p>\n",
       "</div>"
      ],
      "text/plain": [
       "          dates    SKU  price_per_sku\n",
       "0    2018-12-17  98255      67.034692\n",
       "1    2018-12-21  98255      67.034692\n",
       "2    2018-12-22  98255      67.034692\n",
       "3    2018-12-23  98255      67.034692\n",
       "4    2018-12-24  98255      67.034692\n",
       "..          ...    ...            ...\n",
       "170  2019-12-31  80631      88.976018\n",
       "171  2019-12-31  19632     156.642788\n",
       "172  2019-12-31  84395     135.826645\n",
       "173  2019-12-31  43678     145.071118\n",
       "174  2019-12-31  49661     160.691913\n",
       "\n",
       "[175 rows x 3 columns]"
      ]
     },
     "execution_count": 30,
     "metadata": {},
     "output_type": "execute_result"
    }
   ],
   "source": [
    "pd.read_csv('predict.csv')"
   ]
  },
  {
   "cell_type": "markdown",
   "id": "d6f16498-ea3e-4555-ac55-72353416f7b9",
   "metadata": {},
   "source": [
    "# Score = 5.766. (RMSE)"
   ]
  }
 ],
 "metadata": {
  "kernelspec": {
   "display_name": "Python 3 (ipykernel)",
   "language": "python",
   "name": "python3"
  },
  "language_info": {
   "codemirror_mode": {
    "name": "ipython",
    "version": 3
   },
   "file_extension": ".py",
   "mimetype": "text/x-python",
   "name": "python",
   "nbconvert_exporter": "python",
   "pygments_lexer": "ipython3",
   "version": "3.11.0"
  }
 },
 "nbformat": 4,
 "nbformat_minor": 5
}
