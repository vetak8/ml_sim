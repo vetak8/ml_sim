{
 "cells": [
  {
   "cell_type": "code",
   "execution_count": 77,
   "id": "f9b65cbd-a452-4feb-be19-29bb4cbc8abd",
   "metadata": {},
   "outputs": [],
   "source": [
    "from typing import Dict, Tuple, List\n",
    "import numpy as np\n",
    "from scipy.spatial.distance import cosine\n",
    "from itertools import combinations\n",
    "from functools import  reduce"
   ]
  },
  {
   "cell_type": "code",
   "execution_count": 181,
   "id": "27600d03-0301-49d2-8be3-918ad78a06bf",
   "metadata": {},
   "outputs": [],
   "source": [
    "@staticmethod\n",
    "def similarity(embeddings: Dict[int, np.ndarray]) -> Dict[Tuple[int, int], float]:\n",
    "    \"\"\"Calculate pairwise similarities between each item\n",
    "    in embedding.\n",
    "\n",
    "    Args:\n",
    "        embeddings (Dict[int, np.ndarray]): Items embeddings.\n",
    "\n",
    "    Returns:\n",
    "        Dict[Tuple[int, int], float]:\n",
    "        Keys are in form of (i, j) - combinations pairs of item_ids\n",
    "        with i < j.\n",
    "        Round each value to 8 decimal places.\n",
    "    \"\"\"\n",
    "    combs = combinations(embeddings, 2)\n",
    "    pair_sims = {comb: round(cosine(embeddings[comb[0]], embeddings[comb[1]]), 8) for comb in combs}\n",
    "\n",
    "    return pair_sims\n",
    "\n",
    "@staticmethod\n",
    "def knn(\n",
    "    sim: Dict[Tuple[int, int], float], top: int\n",
    ") -> Dict[int, List[Tuple[int, float]]]:\n",
    "    \"\"\"Return closest neighbors for each item.\n",
    "\n",
    "    Args:\n",
    "        sim (Dict[Tuple[int, int], float]): <similarity> method output.\n",
    "        top (int): Number of top neighbors to consider.\n",
    "\n",
    "    Returns:\n",
    "        Dict[int, List[Tuple[int, float]]]: Dict with top closest neighbors\n",
    "        for each item.\n",
    "    \"\"\"\n",
    "    knn_dict = {item_id: [] for pair in sim for item_id in pair}\n",
    "\n",
    "    for (item1, item2), similarity_score in sim.items():\n",
    "        knn_dict[item1].append((item2, similarity_score))\n",
    "        knn_dict[item2].append((item1, similarity_score))\n",
    "\n",
    "    for item_id, neighbors in knn_dict.items():\n",
    "        sorted(neighbors, key=lambda x: x[1], reverse=True)\n",
    "        knn_dict[item_id] = neighbors[:top]\n",
    "\n",
    "    return knn_dict\n",
    "\n",
    "@staticmethod\n",
    "def knn_price(\n",
    "    knn_dict: Dict[int, List[Tuple[int, float]]],\n",
    "    prices: Dict[int, float],\n",
    ") -> Dict[int, float]:\n",
    "    \"\"\"Calculate weighted average prices for each item.\n",
    "    Weights should be positive numbers in [0, 2] interval.\n",
    "\n",
    "    Args:\n",
    "        knn_dict (Dict[int, List[Tuple[int, float]]]): <knn> method output.\n",
    "        prices (Dict[int, float]): Price dict for each item.\n",
    "\n",
    "    Returns:\n",
    "        Dict[int, float]: New prices dict, rounded to 2 decimal places.\n",
    "    \"\"\"\n",
    "    norm_knn_dict = {}\n",
    "    for item_id, neighbors in knn_dict.items():\n",
    "        # min_sim = min(neighbors, key=lambda x: x[1])[1] \n",
    "        # max_sim = max(neighbors, key=lambda x: x[1])[1] \n",
    "        sum_sim = reduce(lambda x, y: x+y[1] + 1, neighbors, 0)\n",
    "        normed_neighbors = [(pair[0], (pair[1] + 1) / sum_sim) for pair in neighbors]\n",
    "        norm_knn_dict[item_id] = normed_neighbors\n",
    "\n",
    "    knn_price_dict = {}\n",
    "    for item_id, neighbors in norm_knn_dict.items():\n",
    "        weighed_price = round(sum([prices[item[0]] * item[1] for item in neighbors]), 2)\n",
    "        knn_price_dict[item_id] = weighed_price\n",
    "\n",
    "    return knn_price_dict\n",
    "\n",
    "@staticmethod\n",
    "def transform(\n",
    "    embeddings: Dict[int, np.ndarray],\n",
    "    prices: Dict[int, float],\n",
    "    top: int,\n",
    ") -> Dict[int, float]:\n",
    "    \"\"\"Transforming input embeddings into a dictionary\n",
    "    with weighted average prices for each item.\n",
    "\n",
    "    Args:\n",
    "        embeddings (Dict[int, np.ndarray]): Items embeddings.\n",
    "        prices (Dict[int, float]): Price dict for each item.\n",
    "        top (int): Number of top neighbors to consider.\n",
    "\n",
    "    Returns:\n",
    "        Dict[int, float]: Dict with weighted average prices for each item.\n",
    "    \"\"\"\n",
    "    pair_sims = similarity(embeddings)\n",
    "    knn_dict = knn(pair_sims, top)\n",
    "    knn_price_dict = knn_price(knn_dict, prices)\n",
    "    \n",
    "    return knn_price_dict"
   ]
  },
  {
   "cell_type": "code",
   "execution_count": 182,
   "id": "eeaf00f5-95a8-4767-8c0d-8c2f52b21de7",
   "metadata": {},
   "outputs": [
    {
     "data": {
      "text/plain": [
       "{(1, 2): 1.15456349,\n",
       " (1, 3): 1.27053417,\n",
       " (1, 4): 0.81818899,\n",
       " (1, 5): 1.03886083,\n",
       " (1, 6): 1.03886083,\n",
       " (1, 7): 1.03886083,\n",
       " (1, 8): 1.03886083,\n",
       " (1, 9): 1.03886083,\n",
       " (1, 10): 1.03886083,\n",
       " (2, 3): 0.68653905,\n",
       " (2, 4): 0.85417666,\n",
       " (2, 5): 1.45207678,\n",
       " (2, 6): 1.45207678,\n",
       " (2, 7): 1.45207678,\n",
       " (2, 8): 1.45207678,\n",
       " (2, 9): 1.45207678,\n",
       " (2, 10): 1.45207678,\n",
       " (3, 4): 0.89426132,\n",
       " (3, 5): 0.56303506,\n",
       " (3, 6): 0.56303506,\n",
       " (3, 7): 0.56303506,\n",
       " (3, 8): 0.56303506,\n",
       " (3, 9): 0.56303506,\n",
       " (3, 10): 0.56303506,\n",
       " (4, 5): 0.96480001,\n",
       " (4, 6): 0.96480001,\n",
       " (4, 7): 0.96480001,\n",
       " (4, 8): 0.96480001,\n",
       " (4, 9): 0.96480001,\n",
       " (4, 10): 0.96480001,\n",
       " (5, 6): 0,\n",
       " (5, 7): 0,\n",
       " (5, 8): 0,\n",
       " (5, 9): 0,\n",
       " (5, 10): 0,\n",
       " (6, 7): 0,\n",
       " (6, 8): 0,\n",
       " (6, 9): 0,\n",
       " (6, 10): 0,\n",
       " (7, 8): 0,\n",
       " (7, 9): 0,\n",
       " (7, 10): 0,\n",
       " (8, 9): 0,\n",
       " (8, 10): 0,\n",
       " (9, 10): 0}"
      ]
     },
     "execution_count": 182,
     "metadata": {},
     "output_type": "execute_result"
    }
   ],
   "source": [
    "similarity(embeddings)"
   ]
  },
  {
   "cell_type": "code",
   "execution_count": 165,
   "id": "17ebefc7-08bd-4804-aa45-6e077fe1094a",
   "metadata": {},
   "outputs": [
    {
     "data": {
      "text/plain": [
       "{(1, 2): 1.15456349,\n",
       " (1, 3): 1.27053417,\n",
       " (1, 4): 0.81818899,\n",
       " (1, 5): 1.03886083,\n",
       " (2, 3): 0.68653905,\n",
       " (2, 4): 0.85417666,\n",
       " (2, 5): 1.45207678,\n",
       " (3, 4): 0.89426132,\n",
       " (3, 5): 0.56303506,\n",
       " (4, 5): 0.96480001}"
      ]
     },
     "execution_count": 165,
     "metadata": {},
     "output_type": "execute_result"
    }
   ],
   "source": [
    "similarity(embeddings)"
   ]
  },
  {
   "cell_type": "code",
   "execution_count": 152,
   "id": "7f605789-14a9-4fb3-8fdc-82578e76fb66",
   "metadata": {},
   "outputs": [
    {
     "data": {
      "text/plain": [
       "{1: 90.89, 2: 59.4, 3: 82.6, 4: 57.31, 5: 57.57}"
      ]
     },
     "execution_count": 152,
     "metadata": {},
     "output_type": "execute_result"
    }
   ],
   "source": [
    "transform(embeddings, prices, 3)"
   ]
  },
  {
   "cell_type": "code",
   "execution_count": 148,
   "id": "b8e65a03-8773-417d-8271-ac9b92ac2204",
   "metadata": {},
   "outputs": [
    {
     "data": {
      "text/plain": [
       "{1: 90.89, 2: 59.4, 3: 82.6, 4: 57.31, 5: 57.57}"
      ]
     },
     "execution_count": 148,
     "metadata": {},
     "output_type": "execute_result"
    }
   ],
   "source": [
    "knn_price(a, prices)"
   ]
  },
  {
   "cell_type": "code",
   "execution_count": 179,
   "id": "734338f4-14ad-412d-850d-7658f44702c6",
   "metadata": {},
   "outputs": [],
   "source": [
    "embeddings = {\n",
    "    1: np.array([-26.57, -76.61, 81.61, -9.11, 74.8, 54.23, 32.56, -22.62, -72.44, -82.78]),\n",
    "    2: np.array([-55.98, 82.87, 86.07, 18.71, -18.66, -46.74, -68.18, 60.29, 98.92, -78.95]),\n",
    "    3: np.array([-27.97, 25.39, -96.85, 3.51, 95.57, -27.48, -80.27, 8.39, 89.96, -36.68]),\n",
    "    4: np.array([-37.0, -49.39, 43.3, 73.36, 29.98, -56.44, -15.91, -56.46, 24.54, 12.43]),\n",
    "    5: np.array([-22.71, 4.47, -65.42, 10.11, 98.34, 17.96, -10.77, 2.5, -26.55, 69.16]),\n",
    "    6: np.array([-22.71, 4.47, -65.42, 10.11, 98.34, 17.96, -10.77, 2.5, -26.55, 69.16]),\n",
    "    7: np.array([-22.71, 4.47, -65.42, 10.11, 98.34, 17.96, -10.77, 2.5, -26.55, 69.16]),\n",
    "    8: np.array([-22.71, 4.47, -65.42, 10.11, 98.34, 17.96, -10.77, 2.5, -26.55, 69.16]),\n",
    "    9: np.array([-22.71, 4.47, -65.42, 10.11, 98.34, 17.96, -10.77, 2.5, -26.55, 69.16]),\n",
    "    10: np.array([-22.71, 4.47, -65.42, 10.11, 98.34, 17.96, -10.77, 2.5, -26.55, 69.16])\n",
    "    \n",
    "}\n",
    "\n",
    "\n",
    "prices = {\n",
    "    1: 100.5,\n",
    "    2: 12.2,\n",
    "    3: 60.0,\n",
    "    4: 11.1,\n",
    "    5: 245.2\n",
    "    \n",
    "}"
   ]
  },
  {
   "cell_type": "code",
   "execution_count": 123,
   "id": "7c3dfaf7-fe17-4093-8d6a-f264809b3613",
   "metadata": {},
   "outputs": [],
   "source": [
    "sim = similarity(embeddings)"
   ]
  },
  {
   "cell_type": "code",
   "execution_count": 116,
   "id": "7ab5631f-de9b-4bbe-9c13-c735f1c64e69",
   "metadata": {},
   "outputs": [
    {
     "data": {
      "text/plain": [
       "{(1, 2): 1.1545634919962326,\n",
       " (1, 3): 1.270534168427317,\n",
       " (1, 4): 0.8181889878718,\n",
       " (1, 5): 1.038860825974679,\n",
       " (2, 3): 0.686539047652722,\n",
       " (2, 4): 0.8541766630741916,\n",
       " (2, 5): 1.4520767766565754,\n",
       " (3, 4): 0.8942613246389717,\n",
       " (3, 5): 0.563035061881952,\n",
       " (4, 5): 0.9648000066514621}"
      ]
     },
     "execution_count": 116,
     "metadata": {},
     "output_type": "execute_result"
    }
   ],
   "source": [
    "sim"
   ]
  },
  {
   "cell_type": "code",
   "execution_count": 117,
   "id": "65acf65d-e5b9-4f0f-99dd-33347c665db4",
   "metadata": {},
   "outputs": [],
   "source": [
    "a = knn(sim, 3)"
   ]
  },
  {
   "cell_type": "code",
   "execution_count": 118,
   "id": "10654332-228d-4684-8a00-5869eeb81328",
   "metadata": {},
   "outputs": [
    {
     "data": {
      "text/plain": [
       "{1: [(4, 0.8181889878718), (5, 1.038860825974679), (2, 1.1545634919962326)],\n",
       " 2: [(3, 0.686539047652722), (4, 0.8541766630741916), (1, 1.1545634919962326)],\n",
       " 3: [(5, 0.563035061881952), (2, 0.686539047652722), (4, 0.8942613246389717)],\n",
       " 4: [(1, 0.8181889878718), (2, 0.8541766630741916), (3, 0.8942613246389717)],\n",
       " 5: [(3, 0.563035061881952), (4, 0.9648000066514621), (1, 1.038860825974679)]}"
      ]
     },
     "execution_count": 118,
     "metadata": {},
     "output_type": "execute_result"
    }
   ],
   "source": [
    "a"
   ]
  },
  {
   "cell_type": "code",
   "execution_count": 137,
   "id": "679c9cb0-90fd-40e3-addc-a6125b672a42",
   "metadata": {},
   "outputs": [
    {
     "name": "stdout",
     "output_type": "stream",
     "text": [
      "6.011613305842712\n",
      "5.695279202723146\n",
      "5.143835434173646\n",
      "5.566626975584963\n",
      "5.5666958945080935\n"
     ]
    },
    {
     "data": {
      "text/plain": [
       "{1: [(4, 0.3024460981388631),\n",
       "  (5, 0.3391536884105805),\n",
       "  (2, 0.35840021345055634)],\n",
       " 2: [(3, 0.2961293007103706),\n",
       "  (4, 0.32556378661605107),\n",
       "  (1, 0.37830691267357847)],\n",
       " 3: [(5, 0.3038656819185454),\n",
       "  (2, 0.3278757785383279),\n",
       "  (4, 0.3682585395431267)],\n",
       " 4: [(1, 0.32662310513104525),\n",
       "  (2, 0.33308800305940156),\n",
       "  (3, 0.34028889180955313)],\n",
       " 5: [(3, 0.28078326739996473),\n",
       "  (4, 0.3529562318268301),\n",
       "  (1, 0.36626050077320504)]}"
      ]
     },
     "execution_count": 137,
     "metadata": {},
     "output_type": "execute_result"
    }
   ],
   "source": [
    "knn_price(a, prices)"
   ]
  },
  {
   "cell_type": "code",
   "execution_count": null,
   "id": "651cae15-6522-4371-98b6-15762daa00e6",
   "metadata": {},
   "outputs": [],
   "source": []
  },
  {
   "cell_type": "code",
   "execution_count": null,
   "id": "e940c68d-a8fe-456d-9084-05e985f1def4",
   "metadata": {},
   "outputs": [],
   "source": []
  },
  {
   "cell_type": "code",
   "execution_count": null,
   "id": "84c22a5c-d382-4eb2-9914-b707f3f758d3",
   "metadata": {},
   "outputs": [],
   "source": []
  }
 ],
 "metadata": {
  "kernelspec": {
   "display_name": "Python 3 (ipykernel)",
   "language": "python",
   "name": "python3"
  },
  "language_info": {
   "codemirror_mode": {
    "name": "ipython",
    "version": 3
   },
   "file_extension": ".py",
   "mimetype": "text/x-python",
   "name": "python",
   "nbconvert_exporter": "python",
   "pygments_lexer": "ipython3",
   "version": "3.11.0"
  }
 },
 "nbformat": 4,
 "nbformat_minor": 5
}
