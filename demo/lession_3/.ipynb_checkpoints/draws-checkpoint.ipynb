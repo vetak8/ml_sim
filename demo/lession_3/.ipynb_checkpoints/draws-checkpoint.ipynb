{
 "cells": [
  {
   "cell_type": "code",
   "execution_count": 6,
   "id": "127cbff4-786f-4dca-b6cd-5788051c849c",
   "metadata": {},
   "outputs": [],
   "source": [
    "from typing import List\n",
    "from functools import reduce\n",
    "import numpy as np\n",
    "\n",
    "\n",
    "def cumulative_gain(relevance: List[float], k: int) -> float:\n",
    "    \"\"\"Score is cumulative gain at k (CG@k)\n",
    "\n",
    "    Parameters\n",
    "    ----------\n",
    "    relevance:  `List[float]`\n",
    "        Relevance labels (Ranks)\n",
    "    k : `int`\n",
    "        Number of elements to be counted\n",
    "\n",
    "    Returns\n",
    "    -------\n",
    "    score : float\n",
    "    \"\"\"\n",
    "    score = reduce(lambda x, y: x+y, relevance[:k])\n",
    "    return score\n"
   ]
  },
  {
   "cell_type": "code",
   "execution_count": 7,
   "id": "21e3dd1a-0f47-49d8-8de9-1abac82417ae",
   "metadata": {},
   "outputs": [
    {
     "data": {
      "text/plain": [
       "4.26"
      ]
     },
     "execution_count": 7,
     "metadata": {},
     "output_type": "execute_result"
    }
   ],
   "source": [
    "relevance = [0.99, 0.94, 0.88, 0.74, 0.71, 0.68]\n",
    "cumulative_gain(relevance, 5)"
   ]
  },
  {
   "cell_type": "code",
   "execution_count": 64,
   "id": "6b041af7-acd8-46a9-9ddf-3f24de869b75",
   "metadata": {},
   "outputs": [],
   "source": [
    "from typing import List\n",
    "import numpy as np\n",
    "from functools import reduce\n",
    "\n",
    "\n",
    "def discounted_cumulative_gain(relevance: List[float], k: int, method: str = \"standard\") -> float:\n",
    "    \"\"\"Discounted Cumulative Gain\n",
    "\n",
    "    Parameters\n",
    "    ----------\n",
    "    relevance : `List[float]`\n",
    "        Video relevance list\n",
    "    k : `int`\n",
    "        Count relevance to compute\n",
    "    method : `str`, optional\n",
    "        Metric implementation method, takes the values​​\n",
    "        `standard` - adds weight to the denominator\n",
    "        `industry` - adds weights to the numerator and denominator\n",
    "        `raise ValueError` - for any value\n",
    "\n",
    "    Returns\n",
    "    -------\n",
    "    score : `float`\n",
    "        Metric score\n",
    "    \"\"\"\n",
    "    \n",
    "    if method == 'standard':\n",
    "        dcg_standard_acc = lambda acc, idx: acc + relevance[idx] / np.log(idx + 2)\n",
    "        score = reduce(dcg_standard_acc, range(len(relevance)), 0)\n",
    "\n",
    "    elif method == 'industry':\n",
    "        dcg_industry_acc = lambda acc, idx: acc + (2**relevance[idx] - 1) / np.log(idx + 2)\n",
    "        score = reduce(dcg_industry_acc, range(len(relevance)), 0)\n",
    "        \n",
    "    else:\n",
    "        raise ValueError\n",
    "    \n",
    "    return score"
   ]
  },
  {
   "cell_type": "code",
   "execution_count": 65,
   "id": "8f4e61bb-706d-4619-8911-98d610c21361",
   "metadata": {},
   "outputs": [
    {
     "name": "stdout",
     "output_type": "stream",
     "text": [
      "3.9457385863248664\n"
     ]
    }
   ],
   "source": [
    "relevance = [0.99, 0.94, 0.88, 0.74, 0.71, 0.68]\n",
    "k = 5\n",
    "method = 'industry'\n",
    "print(discounted_cumulative_gain(relevance, k, method))\n",
    "\n"
   ]
  },
  {
   "cell_type": "code",
   "execution_count": null,
   "id": "d4c09319-02b7-41da-b48d-0a93c33b1e94",
   "metadata": {},
   "outputs": [],
   "source": []
  }
 ],
 "metadata": {
  "kernelspec": {
   "display_name": "Python 3 (ipykernel)",
   "language": "python",
   "name": "python3"
  },
  "language_info": {
   "codemirror_mode": {
    "name": "ipython",
    "version": 3
   },
   "file_extension": ".py",
   "mimetype": "text/x-python",
   "name": "python",
   "nbconvert_exporter": "python",
   "pygments_lexer": "ipython3",
   "version": "3.11.0"
  }
 },
 "nbformat": 4,
 "nbformat_minor": 5
}
