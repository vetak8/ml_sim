{
 "cells": [
  {
   "cell_type": "code",
   "execution_count": 1,
   "id": "26e1446b-2d05-4cd7-9291-ae7e56d1e5f9",
   "metadata": {},
   "outputs": [
    {
     "name": "stdout",
     "output_type": "stream",
     "text": [
      "    sku  agg  rank  base_price  comp_price\n",
      "0     0  max    -1        33.0         NaN\n",
      "1     1  med     0        17.7        16.4\n",
      "2     1  med     1        17.7        21.8\n",
      "3     2  avg     0        76.7        77.0\n",
      "4     2  avg     1        76.7        73.9\n",
      "5     3  rnk     0        39.7        37.4\n",
      "6     3  rnk     2        39.7        47.9\n",
      "7     4  max     0        18.0        22.4\n",
      "8     5  max     0        84.8       106.0\n",
      "9     5  max     1        84.8       104.7\n",
      "10    5  max     2        84.8        80.9\n",
      "11    6  min     0        73.6        31.7\n",
      "12    6  min     1        73.6        33.6\n",
      "13    6  min     2        73.6        74.7\n",
      "14    7  med     0        58.6        71.3\n",
      "15    8  rnk    -1        35.2         NaN\n",
      "16    9  rnk     0        87.0        88.2\n"
     ]
    }
   ],
   "source": [
    "import pandas as pd\n",
    "import numpy as np\n",
    "\n",
    "data = {\n",
    "    'sku': [0, 1, 1, 2, 2, 3, 3, 4, 5, 5, 5, 6, 6, 6, 7, 8, 9],\n",
    "    'agg': ['max', 'med', 'med', 'avg', 'avg', 'rnk', 'rnk', 'max', 'max', 'max', 'max', 'min', 'min', 'min', 'med', 'rnk', 'rnk'],\n",
    "    'rank': [-1, 0, 1, 0, 1, 0, 2, 0, 0, 1, 2, 0, 1, 2, 0, -1, 0],\n",
    "    'base_price': [33.0, 17.7, 17.7, 76.7, 76.7, 39.7, 39.7, 18.0, 84.8, 84.8, 84.8, 73.6, 73.6, 73.6, 58.6, 35.2, 87.0],\n",
    "    'comp_price': [np.nan, 16.4, 21.8, 77.0, 73.9, 37.4, 47.9, 22.4, 106.0, 104.7, 80.9, 31.7, 33.6, 74.7, 71.3, np.nan, 88.2]\n",
    "}\n",
    "\n",
    "df = pd.DataFrame(data)\n",
    "\n",
    "print(df)\n"
   ]
  },
  {
   "cell_type": "code",
   "execution_count": 18,
   "id": "7f438cbe-17ab-4d1a-941e-1780eaaffc68",
   "metadata": {},
   "outputs": [],
   "source": [
    "def agg_comp_price(X: pd.DataFrame) -> pd.DataFrame:\n",
    "    sku_agg_dict = X.groupby('sku')['agg'].agg(lambda x: x.unique()[0]).to_dict()\n",
    "    def get_new_price(row):\n",
    "        if row['sku'] == \n",
    "        \n",
    "    \n",
    "    X['new_price'] = X.apply(lambda row: foo(row), axis=1)\n",
    "    return sku_agg_dict"
   ]
  },
  {
   "cell_type": "code",
   "execution_count": 19,
   "id": "39058904-4e63-47b0-91bc-e383939f471a",
   "metadata": {},
   "outputs": [],
   "source": []
  },
  {
   "cell_type": "code",
   "execution_count": 20,
   "id": "554727d0-a284-44a8-8fdc-2bd49026464f",
   "metadata": {},
   "outputs": [
    {
     "data": {
      "text/plain": [
       "{0: 'max',\n",
       " 1: 'med',\n",
       " 2: 'avg',\n",
       " 3: 'rnk',\n",
       " 4: 'max',\n",
       " 5: 'max',\n",
       " 6: 'min',\n",
       " 7: 'med',\n",
       " 8: 'rnk',\n",
       " 9: 'rnk'}"
      ]
     },
     "execution_count": 20,
     "metadata": {},
     "output_type": "execute_result"
    }
   ],
   "source": [
    "agg_comp_price(df)"
   ]
  },
  {
   "cell_type": "code",
   "execution_count": null,
   "id": "eca24436-61cb-4b25-aff4-179c3ba1f8b6",
   "metadata": {},
   "outputs": [],
   "source": []
  }
 ],
 "metadata": {
  "kernelspec": {
   "display_name": "Python 3 (ipykernel)",
   "language": "python",
   "name": "python3"
  },
  "language_info": {
   "codemirror_mode": {
    "name": "ipython",
    "version": 3
   },
   "file_extension": ".py",
   "mimetype": "text/x-python",
   "name": "python",
   "nbconvert_exporter": "python",
   "pygments_lexer": "ipython3",
   "version": "3.11.0"
  }
 },
 "nbformat": 4,
 "nbformat_minor": 5
}
