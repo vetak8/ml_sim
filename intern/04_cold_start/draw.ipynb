{
 "cells": [
  {
   "cell_type": "code",
   "execution_count": 3,
   "id": "6d325848-2a6e-4bc4-85ec-f2eafa87c0fe",
   "metadata": {},
   "outputs": [],
   "source": [
    "import pandas as pd\n",
    "import numpy as np\n",
    "\n",
    "def fillna_with_mean(df: pd.DataFrame, target: str, group: str) -> pd.DataFrame:\n",
    "    '''Filling target nans mean by category'''\n",
    "    df = df.copy()\n",
    "\n",
    "    def get_filled_target(group, target, grouped_mean_by_category):\n",
    "        '''Returns mean for every target by category'''\n",
    "        if pd.isna(target):  # Check if target is NaN\n",
    "            return np.floor(grouped_mean_by_category[group])\n",
    "        return target\n",
    "\n",
    "    grouped_mean_by_category = df.groupby(group)[target].mean().to_dict()\n",
    "    df[target] = df.apply(lambda row: get_filled_target(row[group],\n",
    "                                                        row[target],\n",
    "                                                        grouped_mean_by_category), axis=1)\n",
    "    return df\n",
    "\n"
   ]
  },
  {
   "cell_type": "code",
   "execution_count": null,
   "id": "0c8e2143-c97c-410a-bc99-ef2eee5d7bff",
   "metadata": {},
   "outputs": [],
   "source": []
  }
 ],
 "metadata": {
  "kernelspec": {
   "display_name": "Python 3 (ipykernel)",
   "language": "python",
   "name": "python3"
  },
  "language_info": {
   "codemirror_mode": {
    "name": "ipython",
    "version": 3
   },
   "file_extension": ".py",
   "mimetype": "text/x-python",
   "name": "python",
   "nbconvert_exporter": "python",
   "pygments_lexer": "ipython3",
   "version": "3.11.0"
  }
 },
 "nbformat": 4,
 "nbformat_minor": 5
}
