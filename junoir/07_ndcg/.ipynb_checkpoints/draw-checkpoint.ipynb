{
 "cells": [
  {
   "cell_type": "markdown",
   "id": "29c6b7e7-7952-4969-b026-efb8cd180c06",
   "metadata": {},
   "source": [
    "# 2\n",
    "\n",
    "## Discounted Cumulative Gain"
   ]
  },
  {
   "cell_type": "code",
   "execution_count": 9,
   "id": "4bb6487b-252c-4533-8df1-0cce3c686e77",
   "metadata": {},
   "outputs": [],
   "source": [
    "from typing import List\n",
    "\n",
    "import numpy as np\n",
    "\n",
    "\n",
    "def cumulative_gain(relevance: List[float], k: int) -> float:\n",
    "    \"\"\"Score is cumulative gain at k (CG@k)\n",
    "\n",
    "    Parameters\n",
    "    ----------\n",
    "    relevance:  `List[float]`\n",
    "        Relevance labels (Ranks)\n",
    "    k : `int`\n",
    "        Number of elements to be counted\n",
    "\n",
    "    Returns\n",
    "    -------\n",
    "    score : float\n",
    "    \"\"\"\n",
    "    score = np.sum(relevance[:k])\n",
    "    return score\n"
   ]
  },
  {
   "cell_type": "code",
   "execution_count": 10,
   "id": "5a5da3da-d88d-45a8-8df1-916d2179e19a",
   "metadata": {},
   "outputs": [
    {
     "name": "stdout",
     "output_type": "stream",
     "text": [
      "4.26\n"
     ]
    },
    {
     "data": {
      "text/plain": [
       "4.26"
      ]
     },
     "execution_count": 10,
     "metadata": {},
     "output_type": "execute_result"
    }
   ],
   "source": [
    ">>> relevance = [0.99, 0.94, 0.88, 0.74, 0.71, 0.68]\n",
    ">>> k = 5\n",
    ">>> print(cumulative_gain(relevance, k))\n",
    "\n",
    "4.26"
   ]
  },
  {
   "cell_type": "markdown",
   "id": "45634d7d-5172-49f1-9b7d-edde990f8a1c",
   "metadata": {},
   "source": [
    "# 3\n",
    "\n",
    "## Normalized Discounted Cumulative Gain\n",
    "DCG@k - не нормированная метрика, что усложняют задачу сравнения. \n",
    "\n",
    "Допустим релевантности запроса `Собеседование System design` близки к 1, а запроса `Как красиво писать тексты?` наоборот к 0 (В первом случае такое происходит потому что на канале есть точно подходящие видео под запрос, а в случае второго запроса на нашем канале нет ничего похожего, несмотря на это мы тоже должны их учитывать).\n",
    "\n",
    "Теперь, что бы получить nDCG (Normalized Discounted Cumulative Gain) достаточно поделить DCG на IDCG, а метрика станет нормированной от 0 до 1.  "
   ]
  },
  {
   "cell_type": "code",
   "execution_count": 45,
   "id": "42e5b440-5f4a-4337-9ac1-445beec69c1d",
   "metadata": {},
   "outputs": [],
   "source": [
    "from typing import List\n",
    "\n",
    "import numpy as np\n",
    "\n",
    "\n",
    "def discounted_cumulative_gain(relevance: List[float], k: int, method: str = \"standard\") -> float:\n",
    "    \"\"\"Discounted Cumulative Gain\n",
    "\n",
    "    Parameters\n",
    "    ----------\n",
    "    relevance : `List[float]`\n",
    "        Video relevance list\n",
    "    k : `int`\n",
    "        Count relevance to compute\n",
    "    method : `str`, optional\n",
    "        Metric implementation method, takes the values​​\n",
    "        `standard` - adds weight to the denominator\n",
    "        `industry` - adds weights to the numerator and denominator\n",
    "        `raise ValueError` - for any value\n",
    "\n",
    "    Returns\n",
    "    -------\n",
    "    score : `float`\n",
    "        Metric score\n",
    "    \"\"\"\n",
    "    relevance = np.array(relevance[:k])\n",
    "    logs = np.log2(np.arange(2, k+2))\n",
    "    if method == 'industry':\n",
    "        score = np.sum((2 ** relevance - 1) / logs)\n",
    "    elif method == 'standard':       \n",
    "        score = np.sum(relevance / logs)\n",
    "    else:\n",
    "        raise ValueError(\"Invalid method provided. Please use 'standard' or 'industry'.\")     \n",
    "        \n",
    "    return score\n"
   ]
  },
  {
   "cell_type": "code",
   "execution_count": 46,
   "id": "9490da8f-a4c3-430d-aae7-003ca654a1b2",
   "metadata": {},
   "outputs": [
    {
     "name": "stdout",
     "output_type": "stream",
     "text": [
      "2.6164401144680056\n"
     ]
    },
    {
     "data": {
      "text/plain": [
       "2.6164"
      ]
     },
     "execution_count": 46,
     "metadata": {},
     "output_type": "execute_result"
    }
   ],
   "source": [
    ">>> relevance = [0.99, 0.94, 0.88, 0.74, 0.71, 0.68]\n",
    ">>> k = 5\n",
    ">>> method = 'standard'\n",
    ">>> print(discounted_cumulative_gain(relevance, k, method))\n",
    "\n",
    "2.6164"
   ]
  },
  {
   "cell_type": "markdown",
   "id": "4f8a7d83-bfda-4deb-8fb4-4844b9095dcf",
   "metadata": {},
   "source": [
    "# 4\n",
    "\n",
    "## Average Normalized Discounted Cumulative Gain\r\n",
    "Замечательно! Вы уже умеете сравнивать модели по определенному запросу, и CyberTolya-T800 работает прекрасно.\n",
    "\n",
    " Наш проект растет, как и количество запросов и новых видео, смотреть на какие-то конкретные запросы уже почти не имеет смысл.\r\n",
    "\r\n",
    "Вы сталкиваетесь с проблемой, что смотреть нужно на большое количество запросов и поведение модели в целом. Как же все таки посчитать метрику для множества запросов?\r\n",
    "\r\n",
    "Average nDCG - усредненное значение метрики nDCG по каждому запросу из множества. "
   ]
  },
  {
   "cell_type": "code",
   "execution_count": 78,
   "id": "a0a0cd8a-d18a-4cbb-902a-87c62bb35dc9",
   "metadata": {},
   "outputs": [],
   "source": [
    "from typing import List\n",
    "\n",
    "import numpy as np\n",
    "\n",
    "\n",
    "def normalized_dcg(relevance: List[float], k: int, method: str = \"standard\") -> float:\n",
    "    \"\"\"Normalized Discounted Cumulative Gain.\n",
    "\n",
    "    Parameters\n",
    "    ----------\n",
    "    relevance : `List[float]`\n",
    "        Video relevance list\n",
    "    k : `int`\n",
    "        Count relevance to compute\n",
    "    method : `str`, optional\n",
    "        Metric implementation method, takes the values\n",
    "        `standard` - adds weight to the denominator\n",
    "        `industry` - adds weights to the numerator and denominator\n",
    "        `raise ValueError` - for any value\n",
    "\n",
    "    Returns\n",
    "    -------\n",
    "    score : `float`\n",
    "        Metric score\n",
    "    \"\"\"\n",
    "    sorted_relevance_k = np.sort(relevance)[::-1][:k]\n",
    "    relevance = np.array(relevance[:k])\n",
    "    logs = np.log2(np.arange(2, k+2))\n",
    "    if method == 'industry':\n",
    "        dcg = np.sum((2 ** relevance - 1) / logs)\n",
    "        idcg = np.sum((2 ** sorted_relevance_k - 1) / logs)\n",
    "    elif method == 'standard':       \n",
    "        dcg = np.sum(relevance / logs)\n",
    "        idcg = np.sum(sorted_relevance_k / logs)\n",
    "    else:\n",
    "        raise ValueError(\"Invalid method provided. Please use 'standard' or 'industry'.\")     \n",
    "    if idcg == 0:\n",
    "        return 0\n",
    "    else:\n",
    "        ndcg = dcg / idcg\n",
    "    \n",
    "    return ndcg"
   ]
  },
  {
   "cell_type": "code",
   "execution_count": 79,
   "id": "61664cfe-8cd2-4901-abf7-ca9eabc8f71f",
   "metadata": {},
   "outputs": [
    {
     "name": "stdout",
     "output_type": "stream",
     "text": [
      "0.9962906539247512\n"
     ]
    },
    {
     "data": {
      "text/plain": [
       "0.9962"
      ]
     },
     "execution_count": 79,
     "metadata": {},
     "output_type": "execute_result"
    }
   ],
   "source": [
    ">>> relevance = [0.99, 0.94, 0.74, 0.88, 0.71, 0.68]\n",
    ">>> k = 5\n",
    ">>> method = 'standard'\n",
    ">>> print(normalized_dcg(relevance, k, method))\n",
    "\n",
    "0.9962"
   ]
  },
  {
   "cell_type": "markdown",
   "id": "ccfa46a8-2f62-4472-a3a0-8c6b37da063d",
   "metadata": {},
   "source": [
    "# 5\n",
    "# Average Normalized Discounted Cumulative Gain"
   ]
  },
  {
   "cell_type": "code",
   "execution_count": 80,
   "id": "a94b9b12-44ba-4290-9e8b-7217c1af7584",
   "metadata": {},
   "outputs": [],
   "source": [
    "from typing import List\n",
    "\n",
    "import numpy as np\n",
    "\n",
    "def avg_ndcg(list_relevances: List[List[float]], k: int, method: str = 'standard') -> float:\n",
    "    \"\"\"average nDCG\n",
    "\n",
    "    Parameters\n",
    "    ----------\n",
    "    list_relevances : `List[List[float]]`\n",
    "        Video relevance matrix for various queries\n",
    "    k : `int`\n",
    "        Count relevance to compute\n",
    "    method : `str`, optional\n",
    "        Metric implementation method, takes the values ​​\\\n",
    "        `standard` - adds weight to the denominator\\\n",
    "        `industry` - adds weights to the numerator and denominator\\\n",
    "        `raise ValueError` - for any value\n",
    "\n",
    "    Returns\n",
    "    -------\n",
    "    score : `float`\n",
    "        Metric score\n",
    "    \"\"\"\n",
    "    n = len(list_relevances)\n",
    "    score = np.sum([normalized_dcg(l, k, method)for l in list_relevances]) / n\n",
    "    return score"
   ]
  },
  {
   "cell_type": "code",
   "execution_count": 82,
   "id": "64e5df66-9146-4900-a11b-ca5f0cf41d3c",
   "metadata": {},
   "outputs": [
    {
     "name": "stdout",
     "output_type": "stream",
     "text": [
      "0.9961322104432755\n"
     ]
    },
    {
     "data": {
      "text/plain": [
       "0.99613"
      ]
     },
     "execution_count": 82,
     "metadata": {},
     "output_type": "execute_result"
    }
   ],
   "source": [
    ">>> list_relevances = [\n",
    "        [0.99, 0.94, 0.88, 0.89, 0.72, 0.65],\n",
    "        [0.99, 0.92, 0.93, 0.74, 0.61, 0.68], \n",
    "        [0.99, 0.96, 0.81, 0.73, 0.76, 0.69]\n",
    "    ]  \n",
    ">>> k = 5\n",
    ">>> method = 'standard'\n",
    ">>> print(avg_ndcg(list_relevances, k, method))\n",
    "\n",
    "0.99613"
   ]
  },
  {
   "cell_type": "code",
   "execution_count": null,
   "id": "c530074c-4dc9-4728-8f38-4259b19e1303",
   "metadata": {},
   "outputs": [],
   "source": []
  }
 ],
 "metadata": {
  "kernelspec": {
   "display_name": "Python 3 (ipykernel)",
   "language": "python",
   "name": "python3"
  },
  "language_info": {
   "codemirror_mode": {
    "name": "ipython",
    "version": 3
   },
   "file_extension": ".py",
   "mimetype": "text/x-python",
   "name": "python",
   "nbconvert_exporter": "python",
   "pygments_lexer": "ipython3",
   "version": "3.11.0"
  }
 },
 "nbformat": 4,
 "nbformat_minor": 5
}
