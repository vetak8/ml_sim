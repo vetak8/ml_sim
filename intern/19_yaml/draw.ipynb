{
 "cells": [
  {
   "cell_type": "markdown",
   "id": "c06adc31-d9b9-4162-80fd-62b20e8a955d",
   "metadata": {},
   "source": [
    "# YAML CONFIG"
   ]
  },
  {
   "cell_type": "code",
   "execution_count": 69,
   "id": "2f4b59c4-b85c-48bd-960c-92a88da6dde3",
   "metadata": {},
   "outputs": [],
   "source": [
    "import yaml\n",
    "from typing import Dict\n",
    "\n",
    "\n",
    "import yaml  # Импортируем модуль yaml для работы с YAML файлами\n",
    "\n",
    "def yaml_to_env(config_file: str) -> str:\n",
    "    # Открываем YAML файл для чтения\n",
    "    with open(config_file, 'r') as file:\n",
    "        # Загружаем данные из YAML файла\n",
    "        config_data = yaml.safe_load(file)\n",
    "\n",
    "    # Вспомогательная функция для \"расплющивания\" вложенного словаря в плоский список пар ключ-значение\n",
    "    def flatten_dict(d, parent_key='', sep='.'):\n",
    "        items = []\n",
    "        for k, v in d.items():\n",
    "            new_key = f\"{parent_key}{sep}{k}\" if parent_key else k\n",
    "            # Если значение является словарем, рекурсивно вызываем flatten_dict\n",
    "            if isinstance(v, dict):\n",
    "                items.extend(flatten_dict(v, new_key, sep=sep).items())\n",
    "            else:\n",
    "                # Добавляем пару ключ-значение в список\n",
    "                items.append((new_key, v))\n",
    "        return dict(items)\n",
    "\n",
    "    # Преобразуем вложенный словарь в плоский список пар ключ-значение\n",
    "    flat_config = flatten_dict(config_data)\n",
    "    # Формируем строку переменных окружения, разделяя каждую пару ключ-значение символом переноса строки\n",
    "    env_str = '\\n'.join([f\"{key}={value}\" for key, value in flat_config.items()])\n",
    "    return env_str  # Возвращаем строку переменных окружения\n",
    "\n",
    "\n",
    "def env_to_yaml(env_list: str) -> str:\n",
    "    # Инициализация пустого словаря, который будет содержать переменные окружения\n",
    "    env_dict = {}\n",
    "    \n",
    "    # Проход по каждой строке в списке строк env_list\n",
    "    for line in env_list.split('\\n'):\n",
    "        # Проверяем, содержит ли строка что-то, кроме пробельных символов\n",
    "        if line.strip():\n",
    "            # Разделяем строку на ключ и значение по первому символу \"=\"\n",
    "            key, value = line.split('=', 1)\n",
    "            # Добавляем пару ключ-значение в словарь, удаляя лишние пробелы с обеих сторон\n",
    "            env_dict[key.strip()] = value.strip()\n",
    "\n",
    "    # Вспомогательная функция для преобразования плоского словаря во вложенный\n",
    "    def unflatten_dict(d, sep='.'):\n",
    "        result = {}\n",
    "        for key, value in d.items():\n",
    "            # Разбиваем ключ на части по разделителю (по умолчанию \".\")\n",
    "            parts = key.split(sep)\n",
    "            current = result\n",
    "            # Проходим по каждой части ключа, создавая вложенные словари при необходимости\n",
    "            for part in parts[:-1]:\n",
    "                if part not in current:\n",
    "                    current[part] = {}\n",
    "                current = current[part]\n",
    "            # Устанавливаем значение для последней части ключа\n",
    "            current[parts[-1]] = value\n",
    "        return result\n",
    "\n",
    "    # Преобразовываем плоский словарь во вложенный и затем в формат YAML\n",
    "    yaml_data = yaml.dump(unflatten_dict(env_dict), default_flow_style=False)\n",
    "    return yaml_data\n"
   ]
  },
  {
   "cell_type": "code",
   "execution_count": 70,
   "id": "5808f20d-c499-4904-b9cc-cc58390bf72b",
   "metadata": {},
   "outputs": [],
   "source": [
    "with open('config.txt', 'r') as config:\n",
    "    config_data = yaml.safe_load(config)"
   ]
  },
  {
   "cell_type": "code",
   "execution_count": 71,
   "id": "fa7ad4a1-b5c3-42b7-893f-4ac0cda00276",
   "metadata": {
    "scrolled": true
   },
   "outputs": [],
   "source": [
    "a = yaml_to_env('config.txt')"
   ]
  },
  {
   "cell_type": "code",
   "execution_count": 72,
   "id": "5cf3a985-792c-4b0f-908e-deae5272600e",
   "metadata": {
    "scrolled": true
   },
   "outputs": [],
   "source": [
    "a = yaml_to_env('config.txt')"
   ]
  },
  {
   "cell_type": "code",
   "execution_count": 73,
   "id": "e1e9ce09-3811-401b-9641-80cfdda0f92a",
   "metadata": {},
   "outputs": [
    {
     "name": "stdout",
     "output_type": "stream",
     "text": [
      "log_dir=Models/VCTK20\n",
      "save_freq=2\n",
      "device=cuda\n",
      "epochs=150\n",
      "batch_size=5\n",
      "pretrained_model=\n",
      "load_only_params=False\n",
      "fp16_run=True\n",
      "train_data=Data/train_list.txt\n",
      "val_data=Data/val_list.txt\n",
      "F0_path=Utils/JDC/bst.t7\n",
      "ASR_config=Utils/ASR/config.yml\n",
      "ASR_path=Utils/ASR/epoch_00100.pth\n",
      "preprocess_params.sr=24000\n",
      "preprocess_params.spect_params.n_fft=2048\n",
      "preprocess_params.spect_params.win_length=1200\n",
      "preprocess_params.spect_params.hop_length=300\n",
      "model_params.dim_in=64\n",
      "model_params.style_dim=64\n",
      "model_params.latent_dim=16\n",
      "model_params.num_domains=20\n",
      "model_params.max_conv_dim=512\n",
      "model_params.n_repeat=4\n",
      "model_params.w_hpf=0\n",
      "model_params.F0_channel=256\n",
      "loss_params.g_loss.lambda_sty=1.0\n",
      "loss_params.g_loss.lambda_cyc=5.0\n",
      "loss_params.g_loss.lambda_ds=1.0\n",
      "loss_params.g_loss.lambda_norm=1.0\n",
      "loss_params.g_loss.lambda_asr=10.0\n",
      "loss_params.g_loss.lambda_f0=5.0\n",
      "loss_params.g_loss.lambda_f0_sty=0.1\n",
      "loss_params.g_loss.lambda_adv=2.0\n",
      "loss_params.g_loss.lambda_adv_cls=0.5\n",
      "loss_params.g_loss.norm_bias=0.5\n",
      "loss_params.d_loss.lambda_reg=1.0\n",
      "loss_params.d_loss.lambda_adv_cls=0.1\n",
      "loss_params.d_loss.lambda_con_reg=10.0\n",
      "loss_params.adv_cls_epoch=50\n",
      "loss_params.con_reg_epoch=30\n",
      "optimizer_params.lr=0.0001\n"
     ]
    }
   ],
   "source": [
    "print(a)"
   ]
  },
  {
   "cell_type": "code",
   "execution_count": 75,
   "id": "2c43a0ab-0cbe-48b0-a5ad-28a3bb175005",
   "metadata": {},
   "outputs": [
    {
     "name": "stdout",
     "output_type": "stream",
     "text": [
      "ASR_config: Utils/ASR/config.yml\n",
      "ASR_path: Utils/ASR/epoch_00100.pth\n",
      "F0_path: Utils/JDC/bst.t7\n",
      "batch_size: '5'\n",
      "device: cuda\n",
      "epochs: '150'\n",
      "fp16_run: 'True'\n",
      "load_only_params: 'False'\n",
      "log_dir: Models/VCTK20\n",
      "loss_params:\n",
      "  adv_cls_epoch: '50'\n",
      "  con_reg_epoch: '30'\n",
      "  d_loss:\n",
      "    lambda_adv_cls: '0.1'\n",
      "    lambda_con_reg: '10.0'\n",
      "    lambda_reg: '1.0'\n",
      "  g_loss:\n",
      "    lambda_adv: '2.0'\n",
      "    lambda_adv_cls: '0.5'\n",
      "    lambda_asr: '10.0'\n",
      "    lambda_cyc: '5.0'\n",
      "    lambda_ds: '1.0'\n",
      "    lambda_f0: '5.0'\n",
      "    lambda_f0_sty: '0.1'\n",
      "    lambda_norm: '1.0'\n",
      "    lambda_sty: '1.0'\n",
      "    norm_bias: '0.5'\n",
      "model_params:\n",
      "  F0_channel: '256'\n",
      "  dim_in: '64'\n",
      "  latent_dim: '16'\n",
      "  max_conv_dim: '512'\n",
      "  n_repeat: '4'\n",
      "  num_domains: '20'\n",
      "  style_dim: '64'\n",
      "  w_hpf: '0'\n",
      "optimizer_params:\n",
      "  lr: '0.0001'\n",
      "preprocess_params:\n",
      "  spect_params:\n",
      "    hop_length: '300'\n",
      "    n_fft: '2048'\n",
      "    win_length: '1200'\n",
      "  sr: '24000'\n",
      "pretrained_model: ''\n",
      "save_freq: '2'\n",
      "train_data: Data/train_list.txt\n",
      "val_data: Data/val_list.txt\n",
      "\n"
     ]
    }
   ],
   "source": [
    "print(env_to_yaml(a))"
   ]
  }
 ],
 "metadata": {
  "kernelspec": {
   "display_name": "Python 3 (ipykernel)",
   "language": "python",
   "name": "python3"
  },
  "language_info": {
   "codemirror_mode": {
    "name": "ipython",
    "version": 3
   },
   "file_extension": ".py",
   "mimetype": "text/x-python",
   "name": "python",
   "nbconvert_exporter": "python",
   "pygments_lexer": "ipython3",
   "version": "3.11.0"
  }
 },
 "nbformat": 4,
 "nbformat_minor": 5
}
