{
 "cells": [
  {
   "cell_type": "markdown",
   "id": "7ebac03c-13ab-4eb3-9ca7-0e7c886d296a",
   "metadata": {},
   "source": [
    "# 1. Генератор пользователей"
   ]
  },
  {
   "cell_type": "code",
   "execution_count": 34,
   "id": "548c4aa4-76fa-494d-95c6-de28c40173ae",
   "metadata": {},
   "outputs": [
    {
     "name": "stdout",
     "output_type": "stream",
     "text": [
      "1 Biba Madre\n",
      "2 Puto Boba\n",
      "3 Andre Quattro\n"
     ]
    }
   ],
   "source": [
    "import random\n",
    "\n",
    "\n",
    "def username_generator(n, first_names=None, last_names=None):\n",
    "    if not first_names:\n",
    "        first_names = ['Andre', 'Puto', 'Biba']\n",
    "    if not last_names:\n",
    "        last_names = ['Madre', 'Boba', 'Quattro']\n",
    "    for id in range(1, n + 1):\n",
    "        yield {'id': id, 'first_name': random.choice(first_names), 'last_name': random.choice(last_names)}\n",
    "    \n",
    "\n",
    "# Example of use\n",
    "custom_first_names = [\"Max\", \"Sophia\", \"Liam\"]\n",
    "custom_last_names = [\"Miller\", \"Davis\", \"Garcia\"]\n",
    "for user in username_generator(3):\n",
    "    print(user['id'], user['first_name'], user['last_name'])\n",
    "\n",
    "# Example of output:\n",
    "# 1 Max Garcia\n",
    "# 2 Liam Davis\n",
    "# 3 Max Miller\n"
   ]
  },
  {
   "cell_type": "code",
   "execution_count": 9,
   "id": "3659aa8f-85b6-4e7e-9680-13a1beeae46d",
   "metadata": {},
   "outputs": [
    {
     "name": "stdout",
     "output_type": "stream",
     "text": [
      "1 2 3\n"
     ]
    }
   ],
   "source": [
    "print(*range(1, 3 + 1))"
   ]
  },
  {
   "cell_type": "markdown",
   "id": "77a50da8-69c2-4aa3-81b3-ae796c3f87ae",
   "metadata": {},
   "source": [
    "# 2.Генератор данных для графика"
   ]
  },
  {
   "cell_type": "markdown",
   "id": "f0f2176b-27c4-457f-814f-c1ecd48740e5",
   "metadata": {},
   "source": [
    "Напишите функцию-генератор data_generator, которая генерирует пары (x, y), \n",
    "\n",
    "где x - это последовательно возрастающие целые числа, начиная с 0, а y - случайное число в заданном диапазоне от 0 до 100. \n",
    "\n",
    "Генератор должен принимать один параметр - количество генерируемых пар n."
   ]
  },
  {
   "cell_type": "code",
   "execution_count": 38,
   "id": "47ce80dd-1563-4507-9235-44a00c1f852b",
   "metadata": {},
   "outputs": [
    {
     "name": "stdout",
     "output_type": "stream",
     "text": [
      "(0, 93)\n",
      "(1, 0)\n",
      "(2, 12)\n",
      "(3, 72)\n",
      "(4, 0)\n",
      "(5, 54)\n",
      "(6, 26)\n",
      "(7, 20)\n",
      "(8, 92)\n",
      "(9, 17)\n"
     ]
    }
   ],
   "source": [
    "import random\n",
    "\n",
    "\n",
    "def data_generator(n):\n",
    "    y_list = [x for x in range(101)]\n",
    "    for x in range(n):\n",
    "        y = random.choice(y_list)\n",
    "        yield (x, y)\n",
    "\n",
    "\n",
    "# Example of use\n",
    "for data in data_generator(10):\n",
    "    print(data)\n",
    "\n",
    "# Example of output:\n",
    "# (0, 49)\n",
    "# (1, 27)\n",
    "# (2, 88)\n"
   ]
  },
  {
   "cell_type": "code",
   "execution_count": null,
   "id": "59506461-a8c9-437b-8e1c-201dd88ee4f0",
   "metadata": {},
   "outputs": [],
   "source": []
  }
 ],
 "metadata": {
  "kernelspec": {
   "display_name": "Python 3 (ipykernel)",
   "language": "python",
   "name": "python3"
  },
  "language_info": {
   "codemirror_mode": {
    "name": "ipython",
    "version": 3
   },
   "file_extension": ".py",
   "mimetype": "text/x-python",
   "name": "python",
   "nbconvert_exporter": "python",
   "pygments_lexer": "ipython3",
   "version": "3.11.0"
  }
 },
 "nbformat": 4,
 "nbformat_minor": 5
}
