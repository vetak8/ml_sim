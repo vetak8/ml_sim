{
 "cells": [
  {
   "cell_type": "code",
   "execution_count": 3,
   "id": "2015ad81-7308-45d9-b2f7-71859a9705ad",
   "metadata": {},
   "outputs": [],
   "source": [
    "import random\n",
    "import pandas as pd\n",
    "\n",
    "\n",
    "class RandomSampler:\n",
    "    \"\"\" \"Randomly samples data from a dataframe.\"\"\"\n",
    "\n",
    "    def __init__(self, dataframe):\n",
    "        self.dataframe = dataframe\n",
    "\n",
    "    def get_num_rows(self):\n",
    "        \"\"\"Returns the number of rows in the dataframe.\"\"\"\n",
    "        return len(self.dataframe)\n",
    "\n",
    "    def sample_data(self, num_samples):\n",
    "        \"\"\"Samples a specified number of rows from the dataframe.\"\"\"\n",
    "        return self.dataframe.sample(num_samples)\n",
    "\n",
    "\n",
    "class UniqueColumnSampler(RandomSampler):\n",
    "    \"\"\"Samples unique values from a specified column in the dataframe.\"\"\"\n",
    "\n",
    "    def __init__(self, dataframe, column_name):\n",
    "        self.column_name = column_name\n",
    "\n",
    "    def sample_data(self, num_samples):\n",
    "        \"\"\"Samples unique values from the specified column.\"\"\"\n",
    "        sampled_values = random.sample(self.dataframe[self.column_name].unique())\n",
    "        # sampled_values = random.sample()\n",
    "        return pd.DataFrame({self.column_name: sampled_values})\n"
   ]
  },
  {
   "cell_type": "code",
   "execution_count": null,
   "id": "751b7734-cfb6-45e0-929e-196ff5842b53",
   "metadata": {},
   "outputs": [],
   "source": []
  }
 ],
 "metadata": {
  "kernelspec": {
   "display_name": "Python 3 (ipykernel)",
   "language": "python",
   "name": "python3"
  },
  "language_info": {
   "codemirror_mode": {
    "name": "ipython",
    "version": 3
   },
   "file_extension": ".py",
   "mimetype": "text/x-python",
   "name": "python",
   "nbconvert_exporter": "python",
   "pygments_lexer": "ipython3",
   "version": "3.11.0"
  }
 },
 "nbformat": 4,
 "nbformat_minor": 5
}
