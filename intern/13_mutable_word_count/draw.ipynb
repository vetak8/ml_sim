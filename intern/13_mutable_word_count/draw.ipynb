{
 "cells": [
  {
   "cell_type": "code",
   "execution_count": 11,
   "id": "8fe4cc45-d83f-41d8-8f22-4087f2318a44",
   "metadata": {},
   "outputs": [
    {
     "data": {
      "text/plain": [
       "1"
      ]
     },
     "execution_count": 11,
     "metadata": {},
     "output_type": "execute_result"
    }
   ],
   "source": [
    "hash(1.0)"
   ]
  },
  {
   "cell_type": "code",
   "execution_count": 12,
   "id": "b836e74a-a72a-4cff-9fac-73ecf36df205",
   "metadata": {},
   "outputs": [
    {
     "data": {
      "text/plain": [
       "{True: 'probably'}"
      ]
     },
     "execution_count": 12,
     "metadata": {},
     "output_type": "execute_result"
    }
   ],
   "source": [
    "{True: 'yes', 1: 'no', 1.0: 'probably'}"
   ]
  },
  {
   "cell_type": "code",
   "execution_count": 13,
   "id": "c416b6cf-117b-4083-a71e-cb300fdfce1a",
   "metadata": {},
   "outputs": [],
   "source": [
    "import test_utils"
   ]
  },
  {
   "cell_type": "code",
   "execution_count": 24,
   "id": "c14a227a-7291-4b73-8976-f0e180d31e8c",
   "metadata": {},
   "outputs": [],
   "source": [
    "import utils\n",
    "\n",
    "def test_word_count():\n",
    "    texts = ['apple orange moon', 'carrot apple moon grape']\n",
    "    count = utils.word_count(texts)\n",
    "    assert count == {'apple': 2, 'orange': 1, 'moon': 2, 'carrot': 1, 'grape': 1}"
   ]
  },
  {
   "cell_type": "code",
   "execution_count": 25,
   "id": "f8624124-f971-4ad8-9edc-c38b99a36b24",
   "metadata": {},
   "outputs": [
    {
     "data": {
      "text/plain": [
       "{'apple': 6, 'orange': 3, 'moon': 6, 'carrot': 3, 'grape': 3}"
      ]
     },
     "execution_count": 25,
     "metadata": {},
     "output_type": "execute_result"
    }
   ],
   "source": [
    "utils.word_count(['apple orange moon', 'carrot apple moon grape'])"
   ]
  }
 ],
 "metadata": {
  "kernelspec": {
   "display_name": "Python 3 (ipykernel)",
   "language": "python",
   "name": "python3"
  },
  "language_info": {
   "codemirror_mode": {
    "name": "ipython",
    "version": 3
   },
   "file_extension": ".py",
   "mimetype": "text/x-python",
   "name": "python",
   "nbconvert_exporter": "python",
   "pygments_lexer": "ipython3",
   "version": "3.11.0"
  }
 },
 "nbformat": 4,
 "nbformat_minor": 5
}
